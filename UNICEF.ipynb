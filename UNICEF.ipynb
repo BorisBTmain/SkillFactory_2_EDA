{
 "cells": [
  {
   "cell_type": "code",
   "execution_count": 1,
   "id": "718d5400",
   "metadata": {},
   "outputs": [],
   "source": [
    "import pandas as pd\n",
    "import matplotlib.pyplot as plt\n",
    "import numpy as np\n",
    "import seaborn as sns\n",
    "from itertools import combinations\n",
    "from scipy.stats import ttest_ind\n",
    "from sklearn import linear_model\n",
    "\n",
    "pd.set_option('display.max_rows', 50) # показывать больше строк\n",
    "pd.set_option('display.max_columns', 50) # показывать больше колонок\n",
    "\n",
    "students = pd.read_csv('stud_math.csv')"
   ]
  },
  {
   "cell_type": "code",
   "execution_count": 2,
   "id": "87003bb8",
   "metadata": {},
   "outputs": [
    {
     "name": "stdout",
     "output_type": "stream",
     "text": [
      "<class 'pandas.core.frame.DataFrame'>\n",
      "RangeIndex: 395 entries, 0 to 394\n",
      "Data columns (total 30 columns):\n",
      " #   Column               Non-Null Count  Dtype  \n",
      "---  ------               --------------  -----  \n",
      " 0   school               395 non-null    object \n",
      " 1   sex                  395 non-null    object \n",
      " 2   age                  395 non-null    int64  \n",
      " 3   address              378 non-null    object \n",
      " 4   famsize              368 non-null    object \n",
      " 5   Pstatus              350 non-null    object \n",
      " 6   Medu                 392 non-null    float64\n",
      " 7   Fedu                 371 non-null    float64\n",
      " 8   Mjob                 376 non-null    object \n",
      " 9   Fjob                 359 non-null    object \n",
      " 10  reason               378 non-null    object \n",
      " 11  guardian             364 non-null    object \n",
      " 12  traveltime           367 non-null    float64\n",
      " 13  studytime            388 non-null    float64\n",
      " 14  failures             373 non-null    float64\n",
      " 15  schoolsup            386 non-null    object \n",
      " 16  famsup               356 non-null    object \n",
      " 17  paid                 355 non-null    object \n",
      " 18  activities           381 non-null    object \n",
      " 19  nursery              379 non-null    object \n",
      " 20  studytime, granular  388 non-null    float64\n",
      " 21  higher               375 non-null    object \n",
      " 22  internet             361 non-null    object \n",
      " 23  romantic             364 non-null    object \n",
      " 24  famrel               368 non-null    float64\n",
      " 25  freetime             384 non-null    float64\n",
      " 26  goout                387 non-null    float64\n",
      " 27  health               380 non-null    float64\n",
      " 28  absences             383 non-null    float64\n",
      " 29  score                389 non-null    float64\n",
      "dtypes: float64(12), int64(1), object(17)\n",
      "memory usage: 92.7+ KB\n"
     ]
    }
   ],
   "source": [
    "students.info()"
   ]
  },
  {
   "cell_type": "code",
   "execution_count": 3,
   "id": "ea786ec4",
   "metadata": {},
   "outputs": [
    {
     "data": {
      "text/plain": [
       "Index(['school', 'sex', 'age', 'address', 'famsize', 'Pstatus', 'Medu', 'Fedu',\n",
       "       'Mjob', 'Fjob', 'reason', 'guardian', 'traveltime', 'studytime',\n",
       "       'failures', 'schoolsup', 'famsup', 'paid', 'activities', 'nursery',\n",
       "       'studytime, granular', 'higher', 'internet', 'romantic', 'famrel',\n",
       "       'freetime', 'goout', 'health', 'absences', 'score'],\n",
       "      dtype='object')"
      ]
     },
     "execution_count": 3,
     "metadata": {},
     "output_type": "execute_result"
    }
   ],
   "source": [
    "students.columns"
   ]
  },
  {
   "cell_type": "code",
   "execution_count": 4,
   "id": "7faf07e4",
   "metadata": {},
   "outputs": [],
   "source": [
    "students.columns = ['school', 'sex', 'age', 'address', 'famsize', 'Pstatus', 'Medu', 'Fedu',\n",
    "       'Mjob', 'Fjob', 'reason', 'guardian', 'traveltime', 'studytime',\n",
    "       'failures', 'schoolsup', 'famsup', 'paid', 'activities', 'nursery',\n",
    "       'studytime_granular', 'higher', 'internet', 'romantic', 'famrel',\n",
    "       'freetime', 'goout', 'health', 'absences', 'score']"
   ]
  },
  {
   "cell_type": "code",
   "execution_count": 5,
   "id": "42da74be",
   "metadata": {},
   "outputs": [
    {
     "data": {
      "text/html": [
       "<div>\n",
       "<style scoped>\n",
       "    .dataframe tbody tr th:only-of-type {\n",
       "        vertical-align: middle;\n",
       "    }\n",
       "\n",
       "    .dataframe tbody tr th {\n",
       "        vertical-align: top;\n",
       "    }\n",
       "\n",
       "    .dataframe thead th {\n",
       "        text-align: right;\n",
       "    }\n",
       "</style>\n",
       "<table border=\"1\" class=\"dataframe\">\n",
       "  <thead>\n",
       "    <tr style=\"text-align: right;\">\n",
       "      <th></th>\n",
       "      <th>school</th>\n",
       "      <th>sex</th>\n",
       "      <th>age</th>\n",
       "      <th>address</th>\n",
       "      <th>famsize</th>\n",
       "      <th>Pstatus</th>\n",
       "      <th>Medu</th>\n",
       "      <th>Fedu</th>\n",
       "      <th>Mjob</th>\n",
       "      <th>Fjob</th>\n",
       "      <th>reason</th>\n",
       "      <th>guardian</th>\n",
       "      <th>traveltime</th>\n",
       "      <th>studytime</th>\n",
       "      <th>failures</th>\n",
       "      <th>schoolsup</th>\n",
       "      <th>famsup</th>\n",
       "      <th>paid</th>\n",
       "      <th>activities</th>\n",
       "      <th>nursery</th>\n",
       "      <th>studytime_granular</th>\n",
       "      <th>higher</th>\n",
       "      <th>internet</th>\n",
       "      <th>romantic</th>\n",
       "      <th>famrel</th>\n",
       "      <th>freetime</th>\n",
       "      <th>goout</th>\n",
       "      <th>health</th>\n",
       "      <th>absences</th>\n",
       "      <th>score</th>\n",
       "    </tr>\n",
       "  </thead>\n",
       "  <tbody>\n",
       "    <tr>\n",
       "      <th>0</th>\n",
       "      <td>GP</td>\n",
       "      <td>F</td>\n",
       "      <td>18</td>\n",
       "      <td>U</td>\n",
       "      <td>NaN</td>\n",
       "      <td>A</td>\n",
       "      <td>4.0</td>\n",
       "      <td>4.0</td>\n",
       "      <td>at_home</td>\n",
       "      <td>teacher</td>\n",
       "      <td>course</td>\n",
       "      <td>mother</td>\n",
       "      <td>2.0</td>\n",
       "      <td>2.0</td>\n",
       "      <td>0.0</td>\n",
       "      <td>yes</td>\n",
       "      <td>no</td>\n",
       "      <td>no</td>\n",
       "      <td>no</td>\n",
       "      <td>yes</td>\n",
       "      <td>-6.0</td>\n",
       "      <td>yes</td>\n",
       "      <td>NaN</td>\n",
       "      <td>no</td>\n",
       "      <td>4.0</td>\n",
       "      <td>3.0</td>\n",
       "      <td>4.0</td>\n",
       "      <td>3.0</td>\n",
       "      <td>6.0</td>\n",
       "      <td>30.0</td>\n",
       "    </tr>\n",
       "    <tr>\n",
       "      <th>1</th>\n",
       "      <td>GP</td>\n",
       "      <td>F</td>\n",
       "      <td>17</td>\n",
       "      <td>U</td>\n",
       "      <td>GT3</td>\n",
       "      <td>NaN</td>\n",
       "      <td>1.0</td>\n",
       "      <td>1.0</td>\n",
       "      <td>at_home</td>\n",
       "      <td>other</td>\n",
       "      <td>course</td>\n",
       "      <td>father</td>\n",
       "      <td>1.0</td>\n",
       "      <td>2.0</td>\n",
       "      <td>0.0</td>\n",
       "      <td>no</td>\n",
       "      <td>yes</td>\n",
       "      <td>no</td>\n",
       "      <td>no</td>\n",
       "      <td>no</td>\n",
       "      <td>-6.0</td>\n",
       "      <td>yes</td>\n",
       "      <td>yes</td>\n",
       "      <td>no</td>\n",
       "      <td>5.0</td>\n",
       "      <td>3.0</td>\n",
       "      <td>3.0</td>\n",
       "      <td>3.0</td>\n",
       "      <td>4.0</td>\n",
       "      <td>30.0</td>\n",
       "    </tr>\n",
       "    <tr>\n",
       "      <th>2</th>\n",
       "      <td>GP</td>\n",
       "      <td>F</td>\n",
       "      <td>15</td>\n",
       "      <td>U</td>\n",
       "      <td>LE3</td>\n",
       "      <td>T</td>\n",
       "      <td>1.0</td>\n",
       "      <td>1.0</td>\n",
       "      <td>at_home</td>\n",
       "      <td>other</td>\n",
       "      <td>other</td>\n",
       "      <td>mother</td>\n",
       "      <td>1.0</td>\n",
       "      <td>2.0</td>\n",
       "      <td>3.0</td>\n",
       "      <td>yes</td>\n",
       "      <td>no</td>\n",
       "      <td>NaN</td>\n",
       "      <td>no</td>\n",
       "      <td>yes</td>\n",
       "      <td>-6.0</td>\n",
       "      <td>yes</td>\n",
       "      <td>yes</td>\n",
       "      <td>NaN</td>\n",
       "      <td>4.0</td>\n",
       "      <td>3.0</td>\n",
       "      <td>2.0</td>\n",
       "      <td>3.0</td>\n",
       "      <td>10.0</td>\n",
       "      <td>50.0</td>\n",
       "    </tr>\n",
       "    <tr>\n",
       "      <th>3</th>\n",
       "      <td>GP</td>\n",
       "      <td>F</td>\n",
       "      <td>15</td>\n",
       "      <td>U</td>\n",
       "      <td>GT3</td>\n",
       "      <td>T</td>\n",
       "      <td>4.0</td>\n",
       "      <td>2.0</td>\n",
       "      <td>health</td>\n",
       "      <td>NaN</td>\n",
       "      <td>home</td>\n",
       "      <td>mother</td>\n",
       "      <td>1.0</td>\n",
       "      <td>3.0</td>\n",
       "      <td>0.0</td>\n",
       "      <td>no</td>\n",
       "      <td>yes</td>\n",
       "      <td>yes</td>\n",
       "      <td>yes</td>\n",
       "      <td>yes</td>\n",
       "      <td>-9.0</td>\n",
       "      <td>yes</td>\n",
       "      <td>yes</td>\n",
       "      <td>yes</td>\n",
       "      <td>3.0</td>\n",
       "      <td>2.0</td>\n",
       "      <td>2.0</td>\n",
       "      <td>5.0</td>\n",
       "      <td>2.0</td>\n",
       "      <td>75.0</td>\n",
       "    </tr>\n",
       "    <tr>\n",
       "      <th>4</th>\n",
       "      <td>GP</td>\n",
       "      <td>F</td>\n",
       "      <td>16</td>\n",
       "      <td>U</td>\n",
       "      <td>GT3</td>\n",
       "      <td>T</td>\n",
       "      <td>3.0</td>\n",
       "      <td>3.0</td>\n",
       "      <td>other</td>\n",
       "      <td>other</td>\n",
       "      <td>home</td>\n",
       "      <td>father</td>\n",
       "      <td>1.0</td>\n",
       "      <td>2.0</td>\n",
       "      <td>0.0</td>\n",
       "      <td>no</td>\n",
       "      <td>yes</td>\n",
       "      <td>yes</td>\n",
       "      <td>no</td>\n",
       "      <td>yes</td>\n",
       "      <td>-6.0</td>\n",
       "      <td>yes</td>\n",
       "      <td>no</td>\n",
       "      <td>no</td>\n",
       "      <td>4.0</td>\n",
       "      <td>3.0</td>\n",
       "      <td>2.0</td>\n",
       "      <td>5.0</td>\n",
       "      <td>4.0</td>\n",
       "      <td>50.0</td>\n",
       "    </tr>\n",
       "  </tbody>\n",
       "</table>\n",
       "</div>"
      ],
      "text/plain": [
       "  school sex  age address famsize Pstatus  Medu  Fedu     Mjob     Fjob  \\\n",
       "0     GP   F   18       U     NaN       A   4.0   4.0  at_home  teacher   \n",
       "1     GP   F   17       U     GT3     NaN   1.0   1.0  at_home    other   \n",
       "2     GP   F   15       U     LE3       T   1.0   1.0  at_home    other   \n",
       "3     GP   F   15       U     GT3       T   4.0   2.0   health      NaN   \n",
       "4     GP   F   16       U     GT3       T   3.0   3.0    other    other   \n",
       "\n",
       "   reason guardian  traveltime  studytime  failures schoolsup famsup paid  \\\n",
       "0  course   mother         2.0        2.0       0.0       yes     no   no   \n",
       "1  course   father         1.0        2.0       0.0        no    yes   no   \n",
       "2   other   mother         1.0        2.0       3.0       yes     no  NaN   \n",
       "3    home   mother         1.0        3.0       0.0        no    yes  yes   \n",
       "4    home   father         1.0        2.0       0.0        no    yes  yes   \n",
       "\n",
       "  activities nursery  studytime_granular higher internet romantic  famrel  \\\n",
       "0         no     yes                -6.0    yes      NaN       no     4.0   \n",
       "1         no      no                -6.0    yes      yes       no     5.0   \n",
       "2         no     yes                -6.0    yes      yes      NaN     4.0   \n",
       "3        yes     yes                -9.0    yes      yes      yes     3.0   \n",
       "4         no     yes                -6.0    yes       no       no     4.0   \n",
       "\n",
       "   freetime  goout  health  absences  score  \n",
       "0       3.0    4.0     3.0       6.0   30.0  \n",
       "1       3.0    3.0     3.0       4.0   30.0  \n",
       "2       3.0    2.0     3.0      10.0   50.0  \n",
       "3       2.0    2.0     5.0       2.0   75.0  \n",
       "4       3.0    2.0     5.0       4.0   50.0  "
      ]
     },
     "metadata": {},
     "output_type": "display_data"
    }
   ],
   "source": [
    "display(students.head())"
   ]
  },
  {
   "cell_type": "code",
   "execution_count": 6,
   "id": "e84e88c6",
   "metadata": {},
   "outputs": [
    {
     "data": {
      "text/html": [
       "<div>\n",
       "<style scoped>\n",
       "    .dataframe tbody tr th:only-of-type {\n",
       "        vertical-align: middle;\n",
       "    }\n",
       "\n",
       "    .dataframe tbody tr th {\n",
       "        vertical-align: top;\n",
       "    }\n",
       "\n",
       "    .dataframe thead th {\n",
       "        text-align: right;\n",
       "    }\n",
       "</style>\n",
       "<table border=\"1\" class=\"dataframe\">\n",
       "  <thead>\n",
       "    <tr style=\"text-align: right;\">\n",
       "      <th></th>\n",
       "      <th>school</th>\n",
       "    </tr>\n",
       "  </thead>\n",
       "  <tbody>\n",
       "    <tr>\n",
       "      <th>GP</th>\n",
       "      <td>349</td>\n",
       "    </tr>\n",
       "    <tr>\n",
       "      <th>MS</th>\n",
       "      <td>46</td>\n",
       "    </tr>\n",
       "  </tbody>\n",
       "</table>\n",
       "</div>"
      ],
      "text/plain": [
       "    school\n",
       "GP     349\n",
       "MS      46"
      ]
     },
     "execution_count": 6,
     "metadata": {},
     "output_type": "execute_result"
    }
   ],
   "source": [
    "pd.DataFrame(students.school.value_counts())"
   ]
  },
  {
   "cell_type": "code",
   "execution_count": null,
   "id": "1193f65a",
   "metadata": {},
   "outputs": [],
   "source": []
  },
  {
   "cell_type": "code",
   "execution_count": 7,
   "id": "a9692a19",
   "metadata": {},
   "outputs": [
    {
     "data": {
      "text/plain": [
       "array(['F', 'M'], dtype=object)"
      ]
     },
     "execution_count": 7,
     "metadata": {},
     "output_type": "execute_result"
    },
    {
     "data": {
      "image/png": "[encoded data removed]",
      "text/plain": [
       "<Figure size 432x288 with 1 Axes>"
      ]
     },
     "metadata": {
      "needs_background": "light"
     },
     "output_type": "display_data"
    }
   ],
   "source": [
    "# проверяем распределение Sex\n",
    "students.sex.hist()\n",
    "students.sex.unique()"
   ]
  },
  {
   "cell_type": "code",
   "execution_count": 8,
   "id": "a04a78b5",
   "metadata": {},
   "outputs": [
    {
     "name": "stdout",
     "output_type": "stream",
     "text": [
      "count    395.000000\n",
      "mean      16.696203\n",
      "std        1.276043\n",
      "min       15.000000\n",
      "25%       16.000000\n",
      "50%       17.000000\n",
      "75%       18.000000\n",
      "max       22.000000\n",
      "Name: age, dtype: float64\n",
      "[18 17 15 16 19 22 20 21]\n"
     ]
    },
    {
     "data": {
      "image/png": "[encoded data removed]",
      "text/plain": [
       "<Figure size 432x288 with 1 Axes>"
      ]
     },
     "metadata": {
      "needs_background": "light"
     },
     "output_type": "display_data"
    }
   ],
   "source": [
    "# проверяем распределение Age\n",
    "students.age.hist()\n",
    "print(students.age.describe())\n",
    "print(students.age.unique())"
   ]
  },
  {
   "cell_type": "code",
   "execution_count": null,
   "id": "1601a0e6",
   "metadata": {},
   "outputs": [],
   "source": []
  },
  {
   "cell_type": "code",
   "execution_count": 9,
   "id": "3848880e",
   "metadata": {},
   "outputs": [
    {
     "name": "stdout",
     "output_type": "stream",
     "text": [
      "    school sex  age address famsize Pstatus  Medu  Fedu      Mjob      Fjob  \\\n",
      "127     GP   F   19       U     GT3       T   0.0   1.0   at_home     other   \n",
      "153     GP   M   19       U     GT3     NaN   3.0   2.0  services   at_home   \n",
      "210     GP   F   19       U     GT3     NaN   3.0   3.0     other     other   \n",
      "247     GP   M   22       U     GT3       T   3.0   1.0  services  services   \n",
      "257     GP   M   19       U     LE3       A   4.0   3.0  services   at_home   \n",
      "270     GP   F   19     NaN     GT3       T   3.0   3.0     other  services   \n",
      "296     GP   F   19       U     GT3       T   4.0   4.0    health     other   \n",
      "304     GP   M   19       U     GT3       T   3.0   3.0     other     other   \n",
      "306     GP   M   20       U     GT3       A   3.0   2.0  services     other   \n",
      "307     GP   M   19       U     GT3     NaN   4.0   4.0   teacher  services   \n",
      "308     GP   M   19       R     GT3       T   3.0   3.0     other  services   \n",
      "309     GP   F   19       U     LE3       T   1.0   1.0   at_home       NaN   \n",
      "310     GP   F   19       U     LE3       T   1.0   NaN  services  services   \n",
      "311     GP   F   19       U     GT3       T   2.0   1.0   at_home     other   \n",
      "312     GP   M   19       U     GT3       T   1.0   2.0     other  services   \n",
      "313     GP   F   19       U     NaN     NaN   3.0   2.0  services     other   \n",
      "314     GP   F   19       U     GT3       T   1.0   1.0   at_home    health   \n",
      "315     GP   F   19       R     GT3       T   2.0   3.0     other     other   \n",
      "336     GP   F   19       R     GT3       A   3.0   1.0  services       NaN   \n",
      "340     GP   F   19       U     GT3       T   2.0   1.0  services  services   \n",
      "350     MS   M   19     NaN     GT3       T   1.0   1.0     other  services   \n",
      "353     MS   M   19       R     GT3       T   1.0   1.0     other     other   \n",
      "370     MS   F   19       U     LE3       T   3.0   2.0  services  services   \n",
      "376     MS   F   20     NaN     GT3       T   4.0   2.0    health     other   \n",
      "383     MS   M   19       R     GT3       T   1.0   1.0     other  services   \n",
      "387     MS   F   19       R     GT3       T   2.0   3.0  services     other   \n",
      "390     MS   M   20       U     LE3       A   2.0   2.0  services  services   \n",
      "392     MS   M   21       R     GT3       T   1.0   1.0     other     other   \n",
      "394     MS   M   19       U     LE3       T   1.0   1.0     other   at_home   \n",
      "\n",
      "         reason guardian  traveltime  studytime  failures schoolsup famsup  \\\n",
      "127      course    other         1.0        2.0       3.0        no    NaN   \n",
      "153        home   mother         1.0        1.0       NaN        no    yes   \n",
      "210  reputation    other         1.0        4.0       0.0        no    yes   \n",
      "247       other   mother         1.0        1.0       3.0        no     no   \n",
      "257  reputation   mother         1.0        2.0       0.0        no    yes   \n",
      "270        home    other         1.0        2.0       2.0        no    yes   \n",
      "296  reputation    other         2.0        2.0       0.0        no    yes   \n",
      "304        home    other         1.0        2.0       1.0        no    yes   \n",
      "306      course    other         1.0        1.0       0.0        no     no   \n",
      "307  reputation    other         2.0        1.0       1.0        no    yes   \n",
      "308  reputation   father         1.0        2.0       1.0        no     no   \n",
      "309  reputation    other         1.0        2.0       1.0       yes    yes   \n",
      "310        home    other         NaN        2.0       1.0        no     no   \n",
      "311       other    other         3.0        2.0       0.0        no    yes   \n",
      "312      course    other         1.0        2.0       1.0        no     no   \n",
      "313  reputation    other         2.0        2.0       NaN        no    NaN   \n",
      "314        home    other         1.0        NaN       2.0        no     no   \n",
      "315  reputation    other         1.0        3.0       1.0        no     no   \n",
      "336        home    other         1.0        3.0       1.0        no     no   \n",
      "340        home    other         1.0        3.0       1.0        no     no   \n",
      "350        home    other         3.0        2.0       3.0        no     no   \n",
      "353        home    other         3.0        1.0       1.0        no    yes   \n",
      "370        home    other         2.0        2.0       2.0        no     no   \n",
      "376      course      NaN         2.0        3.0       2.0        no    yes   \n",
      "383       other   mother         2.0        1.0       1.0        no     no   \n",
      "387      course   mother         1.0        3.0       1.0        no     no   \n",
      "390      course      NaN         1.0        2.0       2.0        no    yes   \n",
      "392      course      NaN         1.0        1.0       3.0       NaN     no   \n",
      "394         NaN   father         1.0        1.0       0.0       NaN     no   \n",
      "\n",
      "    paid activities nursery  studytime_granular higher internet romantic  \\\n",
      "127   no         no      no                -6.0     no       no       no   \n",
      "153   no         no     yes                -3.0     no      yes      yes   \n",
      "210  yes        yes     yes               -12.0    yes      yes       no   \n",
      "247   no         no      no                -3.0     no      yes      yes   \n",
      "257   no         no     yes                -6.0    yes      NaN       no   \n",
      "270  yes        yes     yes                -6.0    yes      yes       no   \n",
      "296  yes        yes     yes                -6.0    yes      yes       no   \n",
      "304   no        yes     yes                -6.0    yes      yes      yes   \n",
      "306   no        yes     yes                -3.0    yes       no       no   \n",
      "307  yes         no     yes                -3.0    yes      yes      yes   \n",
      "308   no        yes     yes                -6.0    yes      NaN      NaN   \n",
      "309  NaN        yes      no                -6.0    yes      yes       no   \n",
      "310   no        yes      no                -6.0    yes       no      yes   \n",
      "311   no         no     yes                -6.0     no      yes      yes   \n",
      "312   no         no      no                -6.0    yes      yes       no   \n",
      "313  NaN         no      no                -6.0    yes      yes      yes   \n",
      "314   no         no      no                 NaN    yes      yes      yes   \n",
      "315   no         no     yes                -9.0    yes      yes      yes   \n",
      "336  yes         no     NaN                -9.0    yes       no       no   \n",
      "340  yes        yes     NaN                -9.0    yes      NaN      yes   \n",
      "350   no         no     NaN                -6.0    yes      yes       no   \n",
      "353   no         no     yes                -3.0    yes      yes       no   \n",
      "370   no        yes     yes                -6.0    yes       no      yes   \n",
      "376  yes         no      no                -9.0    yes      yes      yes   \n",
      "383   no         no     NaN                -3.0    yes       no       no   \n",
      "387   no        yes      no                -9.0    yes      yes       no   \n",
      "390  yes         no     yes                -6.0    yes       no       no   \n",
      "392   no         no      no                -3.0    NaN       no       no   \n",
      "394   no         no     yes                -3.0    yes      yes       no   \n",
      "\n",
      "     famrel  freetime  goout  health  absences  score  \n",
      "127     3.0       4.0    2.0     5.0       2.0   45.0  \n",
      "153     4.0       5.0    4.0     NaN       0.0    0.0  \n",
      "210     4.0       3.0    3.0     3.0      10.0   40.0  \n",
      "247     5.0       4.0    5.0     1.0      16.0   40.0  \n",
      "257     4.0       3.0    1.0     1.0      12.0   55.0  \n",
      "270     4.0       3.0    5.0     5.0       NaN    NaN  \n",
      "296     2.0       3.0    4.0     2.0       0.0    0.0  \n",
      "304     4.0       4.0    4.0     3.0      20.0   65.0  \n",
      "306     5.0       5.0    3.0     5.0       0.0   90.0  \n",
      "307     4.0       3.0    4.0     4.0      38.0   40.0  \n",
      "308     4.0       5.0    3.0     5.0       0.0   60.0  \n",
      "309     NaN       4.0    3.0     3.0      18.0   50.0  \n",
      "310     4.0       2.0    4.0     3.0       0.0    0.0  \n",
      "311     3.0       NaN    1.0     2.0      20.0   65.0  \n",
      "312     4.0       5.0    NaN     4.0       3.0    NaN  \n",
      "313     4.0       2.0    2.0     1.0      22.0   55.0  \n",
      "314     4.0       NaN    2.0     3.0      14.0   65.0  \n",
      "315     4.0       1.0    2.0     3.0      40.0   55.0  \n",
      "336     5.0       4.0    3.0     5.0      12.0   65.0  \n",
      "340     4.0       3.0    4.0     3.0       4.0   55.0  \n",
      "350     5.0       4.0    4.0     2.0       8.0    NaN  \n",
      "353     4.0       4.0    4.0     5.0       4.0   40.0  \n",
      "370     3.0       2.0    2.0     3.0       4.0   45.0  \n",
      "376     5.0       4.0    3.0     3.0       4.0   75.0  \n",
      "383     4.0       3.0    2.0     5.0       0.0    0.0  \n",
      "387     5.0       4.0    2.0     5.0       0.0    0.0  \n",
      "390     5.0       5.0    4.0     4.0     212.0   45.0  \n",
      "392     5.0       5.0    3.0     3.0       3.0   35.0  \n",
      "394     3.0       2.0    3.0     5.0       5.0   45.0  \n"
     ]
    }
   ],
   "source": [
    "print(students[(students.age > 18)])"
   ]
  },
  {
   "cell_type": "code",
   "execution_count": 10,
   "id": "bb21d084",
   "metadata": {},
   "outputs": [
    {
     "name": "stdout",
     "output_type": "stream",
     "text": [
      "Empty DataFrame\n",
      "Columns: [school, sex, age, address, famsize, Pstatus, Medu, Fedu, Mjob, Fjob, reason, guardian, traveltime, studytime, failures, schoolsup, famsup, paid, activities, nursery, studytime_granular, higher, internet, romantic, famrel, freetime, goout, health, absences, score]\n",
      "Index: []\n",
      "    school sex  age address famsize Pstatus  Medu  Fedu      Mjob      Fjob  \\\n",
      "247     GP   M   22       U     GT3       T   3.0   1.0  services  services   \n",
      "\n",
      "    reason guardian  traveltime  studytime  failures schoolsup famsup paid  \\\n",
      "247  other   mother         1.0        1.0       3.0        no     no   no   \n",
      "\n",
      "    activities nursery  studytime_granular higher internet romantic  famrel  \\\n",
      "247         no      no                -3.0     no      yes      yes     5.0   \n",
      "\n",
      "     freetime  goout  health  absences  score  \n",
      "247       4.0    5.0     1.0      16.0   40.0  \n"
     ]
    }
   ],
   "source": [
    "#проверяем Age на выбросы\n",
    "IQR = students.age.quantile(0.75) - students.age.quantile(0.25)\n",
    "perc25 = students.age.quantile(0.25)\n",
    "perc75 = students.age.quantile(0.75)\n",
    "print(students[(students.age < perc25 - 1.5 * IQR)])\n",
    "print(students[(students.age > perc75 + 1.5 * IQR)])"
   ]
  },
  {
   "cell_type": "code",
   "execution_count": 11,
   "id": "91a35bd5",
   "metadata": {},
   "outputs": [],
   "source": [
    "students.age = students.age[(students.age < 22)] #убираем выбросы из Age"
   ]
  },
  {
   "cell_type": "code",
   "execution_count": 12,
   "id": "bb3ca532",
   "metadata": {},
   "outputs": [
    {
     "name": "stdout",
     "output_type": "stream",
     "text": [
      "['U' None 'R']\n",
      "U    295\n",
      "R     83\n",
      "Name: address, dtype: int64\n",
      "Значений, встретившихся в столбце более 10 раз: 2\n"
     ]
    }
   ],
   "source": [
    "#Address\n",
    "students.address = students.address.astype(str).apply(lambda x: None if x.strip() == 'nan' else x)\n",
    "print(students.address.unique())\n",
    "print(students.address.value_counts())\n",
    "print(\"Значений, встретившихся в столбце более 10 раз:\", (students.address.value_counts()>10).sum())"
   ]
  },
  {
   "cell_type": "code",
   "execution_count": 13,
   "id": "3b16fdcb",
   "metadata": {},
   "outputs": [],
   "source": [
    "#FAMSIZE"
   ]
  },
  {
   "cell_type": "code",
   "execution_count": 14,
   "id": "4613d369",
   "metadata": {},
   "outputs": [
    {
     "name": "stdout",
     "output_type": "stream",
     "text": [
      "[None 'GT3' 'LE3']\n",
      "GT3    261\n",
      "LE3    107\n",
      "Name: famsize, dtype: int64\n",
      "Значений, встретившихся в столбце более 10 раз: 2\n"
     ]
    },
    {
     "data": {
      "image/png": "[encoded data removed]",
      "text/plain": [
       "<Figure size 432x288 with 1 Axes>"
      ]
     },
     "metadata": {
      "needs_background": "light"
     },
     "output_type": "display_data"
    }
   ],
   "source": [
    "students.famsize.hist()\n",
    "students.famsize = students.famsize.apply(lambda x: None if pd.isna(x) else x)\n",
    "print(students.famsize.unique())\n",
    "print(students.famsize.value_counts())\n",
    "print(\"Значений, встретившихся в столбце более 10 раз:\", (students.famsize.value_counts()>10).sum())"
   ]
  },
  {
   "cell_type": "code",
   "execution_count": 15,
   "id": "bd3d2829",
   "metadata": {},
   "outputs": [],
   "source": [
    "#Pstatus"
   ]
  },
  {
   "cell_type": "code",
   "execution_count": 16,
   "id": "473ca5e8",
   "metadata": {},
   "outputs": [
    {
     "name": "stdout",
     "output_type": "stream",
     "text": [
      "['A' nan 'T']\n",
      "T    314\n",
      "A     36\n",
      "Name: Pstatus, dtype: int64\n"
     ]
    },
    {
     "data": {
      "text/plain": [
       "<AxesSubplot:>"
      ]
     },
     "execution_count": 16,
     "metadata": {},
     "output_type": "execute_result"
    },
    {
     "data": {
      "image/png": "[encoded data removed]",
      "text/plain": [
       "<Figure size 432x288 with 1 Axes>"
      ]
     },
     "metadata": {
      "needs_background": "light"
     },
     "output_type": "display_data"
    }
   ],
   "source": [
    "print(students.Pstatus.unique())\n",
    "print(students.Pstatus.value_counts())\n",
    "students.Pstatus.hist()\n"
   ]
  },
  {
   "cell_type": "code",
   "execution_count": 17,
   "id": "f3496586",
   "metadata": {},
   "outputs": [
    {
     "name": "stdout",
     "output_type": "stream",
     "text": [
      "['A' None 'T']\n",
      "T    314\n",
      "A     36\n",
      "Name: Pstatus, dtype: int64\n",
      "Значений, встретившихся в столбце более 10 раз: 2\n"
     ]
    }
   ],
   "source": [
    "#есть NaN - убираем\n",
    "students.Pstatus = students.Pstatus.astype(str).apply(lambda x: None if x.strip() == 'nan' else x)\n",
    "#проверяем\n",
    "print(students.Pstatus.unique())\n",
    "print(students.Pstatus.value_counts())\n",
    "print(\"Значений, встретившихся в столбце более 10 раз:\", (students.Pstatus.value_counts()>10).sum())"
   ]
  },
  {
   "cell_type": "code",
   "execution_count": 18,
   "id": "1ca1107a",
   "metadata": {},
   "outputs": [],
   "source": [
    "#MEDU"
   ]
  },
  {
   "cell_type": "code",
   "execution_count": 19,
   "id": "444d0643",
   "metadata": {},
   "outputs": [
    {
     "name": "stdout",
     "output_type": "stream",
     "text": [
      "[ 4.  1.  3.  2. nan  0.]\n",
      "4.0    131\n",
      "2.0    102\n",
      "3.0     97\n",
      "1.0     59\n",
      "0.0      3\n",
      "Name: Medu, dtype: int64\n"
     ]
    },
    {
     "data": {
      "text/plain": [
       "<AxesSubplot:>"
      ]
     },
     "execution_count": 19,
     "metadata": {},
     "output_type": "execute_result"
    },
    {
     "data": {
      "image/png": "[encoded data removed]",
      "text/plain": [
       "<Figure size 432x288 with 1 Axes>"
      ]
     },
     "metadata": {
      "needs_background": "light"
     },
     "output_type": "display_data"
    }
   ],
   "source": [
    "print(students.Medu.unique())\n",
    "print(students.Medu.value_counts())\n",
    "students.Medu.hist()"
   ]
  },
  {
   "cell_type": "code",
   "execution_count": 20,
   "id": "153921b5",
   "metadata": {},
   "outputs": [
    {
     "name": "stdout",
     "output_type": "stream",
     "text": [
      "[ 4.  1.  3.  2. nan  0.]\n",
      "4.0    131\n",
      "2.0    102\n",
      "3.0     97\n",
      "1.0     59\n",
      "0.0      3\n",
      "Name: Medu, dtype: int64\n"
     ]
    },
    {
     "data": {
      "text/html": [
       "<div>\n",
       "<style scoped>\n",
       "    .dataframe tbody tr th:only-of-type {\n",
       "        vertical-align: middle;\n",
       "    }\n",
       "\n",
       "    .dataframe tbody tr th {\n",
       "        vertical-align: top;\n",
       "    }\n",
       "\n",
       "    .dataframe thead th {\n",
       "        text-align: right;\n",
       "    }\n",
       "</style>\n",
       "<table border=\"1\" class=\"dataframe\">\n",
       "  <thead>\n",
       "    <tr style=\"text-align: right;\">\n",
       "      <th></th>\n",
       "      <th>school</th>\n",
       "      <th>sex</th>\n",
       "      <th>age</th>\n",
       "      <th>address</th>\n",
       "      <th>famsize</th>\n",
       "      <th>Pstatus</th>\n",
       "      <th>Medu</th>\n",
       "      <th>Fedu</th>\n",
       "      <th>Mjob</th>\n",
       "      <th>Fjob</th>\n",
       "      <th>reason</th>\n",
       "      <th>guardian</th>\n",
       "      <th>traveltime</th>\n",
       "      <th>studytime</th>\n",
       "      <th>failures</th>\n",
       "      <th>schoolsup</th>\n",
       "      <th>famsup</th>\n",
       "      <th>paid</th>\n",
       "      <th>activities</th>\n",
       "      <th>nursery</th>\n",
       "      <th>studytime_granular</th>\n",
       "      <th>higher</th>\n",
       "      <th>internet</th>\n",
       "      <th>romantic</th>\n",
       "      <th>famrel</th>\n",
       "      <th>freetime</th>\n",
       "      <th>goout</th>\n",
       "      <th>health</th>\n",
       "      <th>absences</th>\n",
       "      <th>score</th>\n",
       "    </tr>\n",
       "  </thead>\n",
       "  <tbody>\n",
       "    <tr>\n",
       "      <th>92</th>\n",
       "      <td>GP</td>\n",
       "      <td>F</td>\n",
       "      <td>16.0</td>\n",
       "      <td>None</td>\n",
       "      <td>LE3</td>\n",
       "      <td>T</td>\n",
       "      <td>NaN</td>\n",
       "      <td>1.0</td>\n",
       "      <td>other</td>\n",
       "      <td>other</td>\n",
       "      <td>home</td>\n",
       "      <td>father</td>\n",
       "      <td>1.0</td>\n",
       "      <td>2.0</td>\n",
       "      <td>0.0</td>\n",
       "      <td>yes</td>\n",
       "      <td>yes</td>\n",
       "      <td>no</td>\n",
       "      <td>no</td>\n",
       "      <td>yes</td>\n",
       "      <td>-6.0</td>\n",
       "      <td>yes</td>\n",
       "      <td>no</td>\n",
       "      <td>no</td>\n",
       "      <td>3.0</td>\n",
       "      <td>3.0</td>\n",
       "      <td>NaN</td>\n",
       "      <td>2.0</td>\n",
       "      <td>4.0</td>\n",
       "      <td>30.0</td>\n",
       "    </tr>\n",
       "    <tr>\n",
       "      <th>193</th>\n",
       "      <td>GP</td>\n",
       "      <td>M</td>\n",
       "      <td>16.0</td>\n",
       "      <td>R</td>\n",
       "      <td>GT3</td>\n",
       "      <td>None</td>\n",
       "      <td>NaN</td>\n",
       "      <td>3.0</td>\n",
       "      <td>services</td>\n",
       "      <td>services</td>\n",
       "      <td>reputation</td>\n",
       "      <td>mother</td>\n",
       "      <td>1.0</td>\n",
       "      <td>1.0</td>\n",
       "      <td>0.0</td>\n",
       "      <td>no</td>\n",
       "      <td>yes</td>\n",
       "      <td>no</td>\n",
       "      <td>yes</td>\n",
       "      <td>yes</td>\n",
       "      <td>-3.0</td>\n",
       "      <td>yes</td>\n",
       "      <td>yes</td>\n",
       "      <td>no</td>\n",
       "      <td>4.0</td>\n",
       "      <td>3.0</td>\n",
       "      <td>2.0</td>\n",
       "      <td>5.0</td>\n",
       "      <td>8.0</td>\n",
       "      <td>50.0</td>\n",
       "    </tr>\n",
       "    <tr>\n",
       "      <th>239</th>\n",
       "      <td>GP</td>\n",
       "      <td>M</td>\n",
       "      <td>18.0</td>\n",
       "      <td>U</td>\n",
       "      <td>GT3</td>\n",
       "      <td>None</td>\n",
       "      <td>NaN</td>\n",
       "      <td>2.0</td>\n",
       "      <td>other</td>\n",
       "      <td>services</td>\n",
       "      <td>reputation</td>\n",
       "      <td>father</td>\n",
       "      <td>1.0</td>\n",
       "      <td>2.0</td>\n",
       "      <td>1.0</td>\n",
       "      <td>no</td>\n",
       "      <td>no</td>\n",
       "      <td>no</td>\n",
       "      <td>no</td>\n",
       "      <td>yes</td>\n",
       "      <td>-6.0</td>\n",
       "      <td>no</td>\n",
       "      <td>NaN</td>\n",
       "      <td>NaN</td>\n",
       "      <td>5.0</td>\n",
       "      <td>5.0</td>\n",
       "      <td>4.0</td>\n",
       "      <td>2.0</td>\n",
       "      <td>0.0</td>\n",
       "      <td>0.0</td>\n",
       "    </tr>\n",
       "  </tbody>\n",
       "</table>\n",
       "</div>"
      ],
      "text/plain": [
       "    school sex   age address famsize Pstatus  Medu  Fedu      Mjob      Fjob  \\\n",
       "92      GP   F  16.0    None     LE3       T   NaN   1.0     other     other   \n",
       "193     GP   M  16.0       R     GT3    None   NaN   3.0  services  services   \n",
       "239     GP   M  18.0       U     GT3    None   NaN   2.0     other  services   \n",
       "\n",
       "         reason guardian  traveltime  studytime  failures schoolsup famsup  \\\n",
       "92         home   father         1.0        2.0       0.0       yes    yes   \n",
       "193  reputation   mother         1.0        1.0       0.0        no    yes   \n",
       "239  reputation   father         1.0        2.0       1.0        no     no   \n",
       "\n",
       "    paid activities nursery  studytime_granular higher internet romantic  \\\n",
       "92    no         no     yes                -6.0    yes       no       no   \n",
       "193   no        yes     yes                -3.0    yes      yes       no   \n",
       "239   no         no     yes                -6.0     no      NaN      NaN   \n",
       "\n",
       "     famrel  freetime  goout  health  absences  score  \n",
       "92      3.0       3.0    NaN     2.0       4.0   30.0  \n",
       "193     4.0       3.0    2.0     5.0       8.0   50.0  \n",
       "239     5.0       5.0    4.0     2.0       0.0    0.0  "
      ]
     },
     "execution_count": 20,
     "metadata": {},
     "output_type": "execute_result"
    },
    {
     "data": {
      "image/png": "[encoded data removed]",
      "text/plain": [
       "<Figure size 432x288 with 1 Axes>"
      ]
     },
     "metadata": {
      "needs_background": "light"
     },
     "output_type": "display_data"
    }
   ],
   "source": [
    "#есть NaN - убираем\n",
    "students.Medu = students.Medu.apply(lambda x: None if pd.isnull(x) else x)\n",
    "#проверяем\n",
    "print(students.Medu.unique())\n",
    "print(students.Medu.value_counts())\n",
    "#проверяем распределение\n",
    "students.Medu.hist()\n",
    "students[(pd.isnull(students.Medu))] #почему-то здесь не убирается NaN, ни через isna, ни через isnull, при этом Python очевидно может их идентифицировать"
   ]
  },
  {
   "cell_type": "code",
   "execution_count": 21,
   "id": "8f9bff90",
   "metadata": {},
   "outputs": [],
   "source": [
    "#FEDU"
   ]
  },
  {
   "cell_type": "code",
   "execution_count": 22,
   "id": "c79ef74d",
   "metadata": {},
   "outputs": [
    {
     "name": "stdout",
     "output_type": "stream",
     "text": [
      "[ 4.  1.  2.  3. 40. nan  0.]\n",
      "2.0     106\n",
      "3.0      96\n",
      "4.0      88\n",
      "1.0      78\n",
      "0.0       2\n",
      "40.0      1\n",
      "Name: Fedu, dtype: int64\n"
     ]
    },
    {
     "data": {
      "text/plain": [
       "<AxesSubplot:>"
      ]
     },
     "execution_count": 22,
     "metadata": {},
     "output_type": "execute_result"
    },
    {
     "data": {
      "image/png": "[encoded data removed]",
      "text/plain": [
       "<Figure size 432x288 with 1 Axes>"
      ]
     },
     "metadata": {
      "needs_background": "light"
     },
     "output_type": "display_data"
    }
   ],
   "source": [
    "print(students.Fedu.unique())\n",
    "print(students.Fedu.value_counts())\n",
    "students.Fedu.hist()"
   ]
  },
  {
   "cell_type": "code",
   "execution_count": 23,
   "id": "8651c8d1",
   "metadata": {},
   "outputs": [
    {
     "name": "stdout",
     "output_type": "stream",
     "text": [
      "   school sex   age address famsize Pstatus  Medu  Fedu      Mjob   Fjob  \\\n",
      "11     GP   F  15.0       U     GT3    None   2.0  40.0  services  other   \n",
      "\n",
      "        reason guardian  traveltime  studytime  failures schoolsup famsup  \\\n",
      "11  reputation   father         3.0        3.0       0.0        no    yes   \n",
      "\n",
      "   paid activities nursery  studytime_granular higher internet romantic  \\\n",
      "11   no        yes     yes                -9.0    yes      yes       no   \n",
      "\n",
      "    famrel  freetime  goout  health  absences  score  \n",
      "11     5.0       2.0    2.0     4.0       4.0   60.0  \n",
      "[ 4.  1.  2.  3. nan  0.]\n",
      "2.0    106\n",
      "3.0     96\n",
      "4.0     89\n",
      "1.0     78\n",
      "0.0      2\n",
      "Name: Fedu, dtype: int64\n",
      "    school sex   age address famsize Pstatus  Medu  Fedu      Mjob      Fjob  \\\n",
      "21      GP   M  15.0       U     GT3       T   4.0   NaN    health    health   \n",
      "42      GP   M  15.0       U     GT3       T   4.0   NaN  services   teacher   \n",
      "46      GP   F  16.0       U     LE3       A   3.0   NaN     other  services   \n",
      "57      GP   M  15.0       U     GT3       T   4.0   NaN   teacher    health   \n",
      "58      GP   M  15.0       U     LE3       T   1.0   NaN     other   at_home   \n",
      "67      GP   F  16.0       U     GT3    None   3.0   NaN  services     other   \n",
      "137     GP   F  16.0       U     GT3       A   3.0   NaN     other     other   \n",
      "142     GP   F  15.0       U     GT3       T   4.0   NaN   teacher  services   \n",
      "159     GP   M  16.0    None     GT3       T   3.0   NaN     other  services   \n",
      "161     GP   M  15.0       R     GT3       T   3.0   NaN     other       NaN   \n",
      "180     GP   M  16.0       U     GT3       T   4.0   NaN   teacher     other   \n",
      "195     GP   F  17.0       U    None       T   2.0   NaN  services  services   \n",
      "232     GP   M  17.0       U     GT3       T   4.0   NaN   teacher   teacher   \n",
      "236     GP   M  17.0       U     LE3       T   2.0   NaN     other     other   \n",
      "259     GP   F  17.0       U     LE3       T   2.0   NaN  services  services   \n",
      "280     GP   M  17.0       U    None       A   4.0   NaN  services     other   \n",
      "281     GP   M  17.0       U     LE3       A   3.0   NaN   teacher  services   \n",
      "286     GP   F  18.0       U     GT3       T   2.0   NaN   at_home   at_home   \n",
      "287     GP   F  17.0       U     GT3       T   1.0   NaN  services   teacher   \n",
      "290     GP   M  18.0       U     GT3       T   4.0   NaN   teacher     other   \n",
      "310     GP   F  19.0       U     LE3       T   1.0   NaN  services  services   \n",
      "328     GP   F  17.0       U     GT3       T   4.0   NaN   teacher  services   \n",
      "349     MS   M  18.0       R     GT3       T   3.0   NaN     other     other   \n",
      "374     MS   F  18.0       R     LE3       T   4.0   NaN     other       NaN   \n",
      "\n",
      "         reason guardian  traveltime  studytime  failures schoolsup famsup  \\\n",
      "21        other   father         1.0        1.0       NaN        no    yes   \n",
      "42       course   father         1.0        2.0       0.0        no    yes   \n",
      "46         home   mother         1.0        2.0       0.0        no    yes   \n",
      "57   reputation   mother         1.0        2.0       0.0        no    yes   \n",
      "58         home   father         1.0        2.0       0.0       yes    yes   \n",
      "67       course   mother         1.0        4.0       0.0       yes    yes   \n",
      "137         NaN    other         NaN        1.0       2.0        no    yes   \n",
      "142      course   mother         NaN        3.0       0.0        no    yes   \n",
      "159      course   father         1.0        2.0       1.0        no    yes   \n",
      "161      course   mother         2.0        2.0       2.0       yes    yes   \n",
      "180        home   mother         1.0        2.0       0.0        no    NaN   \n",
      "195      course   father         1.0        2.0       0.0        no    NaN   \n",
      "232  reputation   mother         1.0        2.0       0.0       yes    NaN   \n",
      "236        home   father         1.0        2.0       NaN        no     no   \n",
      "259      course   father         1.0        4.0       0.0        no     no   \n",
      "280        home   mother         2.0        1.0       NaN        no     no   \n",
      "281        home   mother         1.0        1.0       1.0        no     no   \n",
      "286       other   mother         1.0        3.0       0.0        no    yes   \n",
      "287  reputation   mother         1.0        3.0       0.0        no    yes   \n",
      "290        home   mother         1.0        2.0       0.0        no    yes   \n",
      "310        home    other         NaN        2.0       1.0        no     no   \n",
      "328      course   mother         1.0        3.0       0.0        no    NaN   \n",
      "349      course      NaN         2.0        1.0       1.0        no    yes   \n",
      "374  reputation   mother         2.0        3.0       0.0        no     no   \n",
      "\n",
      "    paid activities nursery  studytime_granular higher internet romantic  \\\n",
      "21   NaN         no     yes                -3.0    yes      yes       no   \n",
      "42    no        yes     yes                -6.0    yes      yes       no   \n",
      "46    no         no     yes                -6.0    yes      yes       no   \n",
      "57   NaN        yes     yes                -6.0    yes       no       no   \n",
      "58    no        yes     yes                -6.0    yes      yes       no   \n",
      "67   yes         no     yes               -12.0    yes      yes      NaN   \n",
      "137   no        yes      no                -3.0    yes      yes      yes   \n",
      "142  yes        yes     yes                -9.0    NaN      yes       no   \n",
      "159  yes         no     yes                -6.0    yes      yes      yes   \n",
      "161   no         no     yes                -6.0    yes      yes      yes   \n",
      "180  yes        yes     yes                -6.0    yes      yes       no   \n",
      "195   no        yes     yes                -6.0    yes      yes      yes   \n",
      "232   no        yes     yes                -6.0    yes      yes      yes   \n",
      "236  NaN        yes      no                -6.0    yes      yes      yes   \n",
      "259  yes        yes     yes               -12.0    yes      NaN      yes   \n",
      "280  yes        yes     yes                -3.0    yes      yes      NaN   \n",
      "281   no         no     yes                -3.0    NaN      yes       no   \n",
      "286  yes         no     yes                -9.0    yes      yes       no   \n",
      "287  yes         no     yes                -9.0    yes      yes       no   \n",
      "290  yes        yes     yes                -6.0    yes      yes      NaN   \n",
      "310   no        yes      no                -6.0    yes       no      yes   \n",
      "328  yes        yes     yes                -9.0    yes      yes       no   \n",
      "349   no         no      no                -3.0    yes      yes       no   \n",
      "374   no         no     yes                -9.0    yes      yes       no   \n",
      "\n",
      "     famrel  freetime  goout  health  absences  score  \n",
      "21      5.0       4.0    2.0     5.0       0.0   75.0  \n",
      "42      4.0       3.0    3.0     5.0       2.0   90.0  \n",
      "46      2.0       3.0    5.0     3.0      12.0   55.0  \n",
      "57      3.0       2.0    2.0     5.0       4.0   75.0  \n",
      "58      4.0       3.0    2.0     5.0       2.0   45.0  \n",
      "67      4.0       3.0    3.0     5.0       4.0   30.0  \n",
      "137     4.0       3.0    2.0     5.0       0.0    0.0  \n",
      "142     4.0       2.0    2.0     5.0       2.0   55.0  \n",
      "159     4.0       5.0    5.0     5.0       4.0   60.0  \n",
      "161     4.0       4.0    4.0     3.0       6.0   35.0  \n",
      "180     3.0       4.0    3.0     3.0      10.0   40.0  \n",
      "195     NaN       3.0    2.0     5.0       0.0   75.0  \n",
      "232     4.0       5.0    5.0     2.0      14.0   45.0  \n",
      "236     4.0       4.0    2.0     NaN       4.0   65.0  \n",
      "259     3.0       4.0    1.0     NaN       0.0    0.0  \n",
      "280     4.0       NaN    4.0     5.0      30.0   40.0  \n",
      "281     4.0       4.0    4.0     3.0      19.0   50.0  \n",
      "286     4.0       3.0    3.0     2.0       5.0   95.0  \n",
      "287     4.0       3.0    3.0     3.0       6.0   60.0  \n",
      "290     NaN       NaN    2.0     5.0      11.0   55.0  \n",
      "310     4.0       2.0    4.0     3.0       0.0    0.0  \n",
      "328     5.0       4.0    4.0     4.0       7.0   45.0  \n",
      "349     NaN       5.0    5.0     5.0      10.0   65.0  \n",
      "374     5.0       4.0    4.0     1.0       0.0   95.0  \n"
     ]
    },
    {
     "name": "stderr",
     "output_type": "stream",
     "text": [
      "/Users/boristroynik/opt/anaconda3/lib/python3.8/site-packages/pandas/core/indexing.py:1637: SettingWithCopyWarning: \n",
      "A value is trying to be set on a copy of a slice from a DataFrame\n",
      "\n",
      "See the caveats in the documentation: https://pandas.pydata.org/pandas-docs/stable/user_guide/indexing.html#returning-a-view-versus-a-copy\n",
      "  self._setitem_single_block(indexer, value, name)\n"
     ]
    },
    {
     "data": {
      "text/plain": [
       "<AxesSubplot:>"
      ]
     },
     "execution_count": 23,
     "metadata": {},
     "output_type": "execute_result"
    },
    {
     "data": {
      "image/png": "[encoded data removed]",
      "text/plain": [
       "<Figure size 432x288 with 1 Axes>"
      ]
     },
     "metadata": {
      "needs_background": "light"
     },
     "output_type": "display_data"
    }
   ],
   "source": [
    "#Здесь явно закралась ошибка - кто-то написал 40. вместо 4.0. Исправляем\n",
    "print(students[(students.Fedu > 4)])\n",
    "students.Fedu.iloc[11] = 4.0\n",
    "#также убираем 'nan'\n",
    "students.Fedu = students.Fedu.apply(lambda x: None if pd.isna(x) else x)\n",
    "#проверяем\n",
    "print(students.Fedu.unique())\n",
    "print(students.Fedu.value_counts())\n",
    "print(students[(pd.isna(students.Fedu))]) #аналогичная история, здесь не получается убрать NaN\n",
    "students.Fedu.hist()"
   ]
  },
  {
   "cell_type": "code",
   "execution_count": 24,
   "id": "ea3eff68",
   "metadata": {},
   "outputs": [
    {
     "name": "stdout",
     "output_type": "stream",
     "text": [
      "['at_home' 'health' 'other' 'services' 'teacher' nan]\n",
      "other       133\n",
      "services     98\n",
      "at_home      58\n",
      "teacher      55\n",
      "health       32\n",
      "Name: Mjob, dtype: int64\n",
      "Значений, встретившихся в столбце более 10 раз: 5\n"
     ]
    },
    {
     "data": {
      "image/png": "[encoded data removed]",
      "text/plain": [
       "<Figure size 432x288 with 1 Axes>"
      ]
     },
     "metadata": {
      "needs_background": "light"
     },
     "output_type": "display_data"
    }
   ],
   "source": [
    "#MJOB\n",
    "print(students.Mjob.unique())\n",
    "print(students.Mjob.value_counts())\n",
    "students.Mjob.hist()\n",
    "print(\"Значений, встретившихся в столбце более 10 раз:\", (students.Mjob.value_counts()>10).sum())"
   ]
  },
  {
   "cell_type": "code",
   "execution_count": 25,
   "id": "0b27ece1",
   "metadata": {},
   "outputs": [
    {
     "name": "stdout",
     "output_type": "stream",
     "text": [
      "['at_home' 'health' 'other' 'services' 'teacher' None]\n",
      "other       133\n",
      "services     98\n",
      "at_home      58\n",
      "teacher      55\n",
      "health       32\n",
      "Name: Mjob, dtype: int64\n"
     ]
    },
    {
     "data": {
      "text/plain": [
       "<AxesSubplot:>"
      ]
     },
     "execution_count": 25,
     "metadata": {},
     "output_type": "execute_result"
    },
    {
     "data": {
      "image/png": "[encoded data removed]",
      "text/plain": [
       "<Figure size 432x288 with 1 Axes>"
      ]
     },
     "metadata": {
      "needs_background": "light"
     },
     "output_type": "display_data"
    }
   ],
   "source": [
    "#убираем 'nan'\n",
    "students.Mjob = students.Mjob.astype(str).apply(lambda x: None if x.strip() == 'nan' else x)\n",
    "#проверяем\n",
    "print(students.Mjob.unique())\n",
    "print(students.Mjob.value_counts())\n",
    "students.Mjob.hist()"
   ]
  },
  {
   "cell_type": "code",
   "execution_count": 26,
   "id": "1291bddd",
   "metadata": {},
   "outputs": [],
   "source": [
    "#FJOB"
   ]
  },
  {
   "cell_type": "code",
   "execution_count": 27,
   "id": "a48be8fd",
   "metadata": {},
   "outputs": [
    {
     "name": "stdout",
     "output_type": "stream",
     "text": [
      "['teacher' 'other' nan 'health' 'services' 'at_home']\n",
      "other       197\n",
      "services    102\n",
      "teacher      29\n",
      "at_home      16\n",
      "health       15\n",
      "Name: Fjob, dtype: int64\n",
      "Значений, встретившихся в столбце более 10 раз: 5\n"
     ]
    },
    {
     "data": {
      "image/png": "[encoded data removed]",
      "text/plain": [
       "<Figure size 432x288 with 1 Axes>"
      ]
     },
     "metadata": {
      "needs_background": "light"
     },
     "output_type": "display_data"
    }
   ],
   "source": [
    "print(students.Fjob.unique())\n",
    "print(students.Fjob.value_counts())\n",
    "students.Fjob.hist()\n",
    "print(\"Значений, встретившихся в столбце более 10 раз:\", (students.Fjob.value_counts()>10).sum())"
   ]
  },
  {
   "cell_type": "code",
   "execution_count": 28,
   "id": "74c5f9c4",
   "metadata": {},
   "outputs": [],
   "source": [
    "#убираем 'nan'\n",
    "students.Fjob = students.Fjob.astype(str).apply(lambda x: None if x.strip() == 'nan' else x)"
   ]
  },
  {
   "cell_type": "code",
   "execution_count": 29,
   "id": "661411d6",
   "metadata": {},
   "outputs": [
    {
     "name": "stdout",
     "output_type": "stream",
     "text": [
      "['teacher' 'other' None 'health' 'services' 'at_home']\n",
      "other       197\n",
      "services    102\n",
      "teacher      29\n",
      "at_home      16\n",
      "health       15\n",
      "Name: Fjob, dtype: int64\n"
     ]
    },
    {
     "data": {
      "text/plain": [
       "<AxesSubplot:>"
      ]
     },
     "execution_count": 29,
     "metadata": {},
     "output_type": "execute_result"
    },
    {
     "data": {
      "image/png": "[encoded data removed]",
      "text/plain": [
       "<Figure size 432x288 with 1 Axes>"
      ]
     },
     "metadata": {
      "needs_background": "light"
     },
     "output_type": "display_data"
    }
   ],
   "source": [
    "#проверяем\n",
    "print(students.Fjob.unique())\n",
    "print(students.Fjob.value_counts())\n",
    "students.Fjob.hist()"
   ]
  },
  {
   "cell_type": "code",
   "execution_count": 30,
   "id": "53f1bba9",
   "metadata": {},
   "outputs": [],
   "source": [
    "#REASON"
   ]
  },
  {
   "cell_type": "code",
   "execution_count": 31,
   "id": "2bfa2489",
   "metadata": {},
   "outputs": [
    {
     "name": "stdout",
     "output_type": "stream",
     "text": [
      "['course' 'other' 'home' 'reputation' nan]\n",
      "course        137\n",
      "home          104\n",
      "reputation    103\n",
      "other          34\n",
      "Name: reason, dtype: int64\n",
      "Значений, встретившихся в столбце более 10 раз: 4\n"
     ]
    },
    {
     "data": {
      "image/png": "[encoded data removed]",
      "text/plain": [
       "<Figure size 432x288 with 1 Axes>"
      ]
     },
     "metadata": {
      "needs_background": "light"
     },
     "output_type": "display_data"
    }
   ],
   "source": [
    "print(students.reason.unique())\n",
    "print(students.reason.value_counts())\n",
    "students.reason.hist()\n",
    "print(\"Значений, встретившихся в столбце более 10 раз:\", (students.reason.value_counts()>10).sum())"
   ]
  },
  {
   "cell_type": "code",
   "execution_count": 32,
   "id": "c579e8b8",
   "metadata": {},
   "outputs": [],
   "source": [
    "#убираем 'nan'\n",
    "students.reason = students.reason.astype(str).apply(lambda x: None if x.strip() == 'nan' else x)"
   ]
  },
  {
   "cell_type": "code",
   "execution_count": 33,
   "id": "df295de0",
   "metadata": {},
   "outputs": [
    {
     "name": "stdout",
     "output_type": "stream",
     "text": [
      "['course' 'other' 'home' 'reputation' None]\n",
      "course        137\n",
      "home          104\n",
      "reputation    103\n",
      "other          34\n",
      "Name: reason, dtype: int64\n"
     ]
    }
   ],
   "source": [
    "#проверяем\n",
    "print(students.reason.unique())\n",
    "print(students.reason.value_counts())"
   ]
  },
  {
   "cell_type": "code",
   "execution_count": 34,
   "id": "02111659",
   "metadata": {},
   "outputs": [],
   "source": [
    "#GUARDIAN"
   ]
  },
  {
   "cell_type": "code",
   "execution_count": 35,
   "id": "93fc621d",
   "metadata": {},
   "outputs": [
    {
     "name": "stdout",
     "output_type": "stream",
     "text": [
      "['mother' 'father' 'other' nan]\n",
      "mother    250\n",
      "father     86\n",
      "other      28\n",
      "Name: guardian, dtype: int64\n",
      "Значений, встретившихся в столбце более 10 раз: 3\n"
     ]
    },
    {
     "data": {
      "image/png": "[encoded data removed]",
      "text/plain": [
       "<Figure size 432x288 with 1 Axes>"
      ]
     },
     "metadata": {
      "needs_background": "light"
     },
     "output_type": "display_data"
    }
   ],
   "source": [
    "print(students.guardian.unique())\n",
    "print(students.guardian.value_counts())\n",
    "students.guardian.hist()\n",
    "print(\"Значений, встретившихся в столбце более 10 раз:\", (students.guardian.value_counts()>10).sum())"
   ]
  },
  {
   "cell_type": "code",
   "execution_count": 36,
   "id": "31e08a33",
   "metadata": {},
   "outputs": [],
   "source": [
    "#убираем 'nan'\n",
    "students.guardian = students.guardian.astype(str).apply(lambda x: None if x.strip() == 'nan' else x)"
   ]
  },
  {
   "cell_type": "code",
   "execution_count": 37,
   "id": "ad865398",
   "metadata": {},
   "outputs": [
    {
     "name": "stdout",
     "output_type": "stream",
     "text": [
      "['mother' 'father' 'other' None]\n",
      "mother    250\n",
      "father     86\n",
      "other      28\n",
      "Name: guardian, dtype: int64\n"
     ]
    }
   ],
   "source": [
    "#проверяем\n",
    "print(students.guardian.unique())\n",
    "print(students.guardian.value_counts())"
   ]
  },
  {
   "cell_type": "code",
   "execution_count": 38,
   "id": "48cfee9d",
   "metadata": {},
   "outputs": [],
   "source": [
    "#TRAVELTIME"
   ]
  },
  {
   "cell_type": "code",
   "execution_count": 39,
   "id": "b4907a7e",
   "metadata": {},
   "outputs": [
    {
     "name": "stdout",
     "output_type": "stream",
     "text": [
      "[ 2.  1.  3. nan  4.]\n",
      "1.0    242\n",
      "2.0     96\n",
      "3.0     22\n",
      "4.0      7\n",
      "Name: traveltime, dtype: int64\n"
     ]
    },
    {
     "data": {
      "text/plain": [
       "count    367.000000\n",
       "mean       1.438692\n",
       "std        0.694181\n",
       "min        1.000000\n",
       "25%        1.000000\n",
       "50%        1.000000\n",
       "75%        2.000000\n",
       "max        4.000000\n",
       "Name: traveltime, dtype: float64"
      ]
     },
     "execution_count": 39,
     "metadata": {},
     "output_type": "execute_result"
    },
    {
     "data": {
      "image/png": "[encoded data removed]",
      "text/plain": [
       "<Figure size 432x288 with 1 Axes>"
      ]
     },
     "metadata": {
      "needs_background": "light"
     },
     "output_type": "display_data"
    }
   ],
   "source": [
    "print(students.traveltime.unique())\n",
    "print(students.traveltime.value_counts())\n",
    "students.traveltime.hist()\n",
    "students.traveltime.describe()"
   ]
  },
  {
   "cell_type": "code",
   "execution_count": 40,
   "id": "44b8b10b",
   "metadata": {},
   "outputs": [],
   "source": [
    "#убираем 'nan'\n",
    "students.traveltime = students.traveltime.apply(lambda x: None if pd.isna(x) else x)"
   ]
  },
  {
   "cell_type": "code",
   "execution_count": 41,
   "id": "a95bf1c6",
   "metadata": {},
   "outputs": [
    {
     "name": "stdout",
     "output_type": "stream",
     "text": [
      "[ 2.  1.  3. nan  4.]\n",
      "1.0    242\n",
      "2.0     96\n",
      "3.0     22\n",
      "4.0      7\n",
      "Name: traveltime, dtype: int64\n"
     ]
    }
   ],
   "source": [
    "#проверяем\n",
    "print(students.traveltime.unique())\n",
    "print(students.traveltime.value_counts())\n",
    "#вывод - не получилось :-о"
   ]
  },
  {
   "cell_type": "code",
   "execution_count": 42,
   "id": "03ffea1c",
   "metadata": {},
   "outputs": [],
   "source": [
    "#STUDYTIME"
   ]
  },
  {
   "cell_type": "code",
   "execution_count": 43,
   "id": "c0cfe2dc",
   "metadata": {},
   "outputs": [
    {
     "name": "stdout",
     "output_type": "stream",
     "text": [
      "[ 2.  3.  1. nan  4.]\n",
      "2.0    194\n",
      "1.0    103\n",
      "3.0     64\n",
      "4.0     27\n",
      "Name: studytime, dtype: int64\n"
     ]
    },
    {
     "data": {
      "text/plain": [
       "<AxesSubplot:>"
      ]
     },
     "execution_count": 43,
     "metadata": {},
     "output_type": "execute_result"
    },
    {
     "data": {
      "image/png": "[encoded data removed]",
      "text/plain": [
       "<Figure size 432x288 with 1 Axes>"
      ]
     },
     "metadata": {
      "needs_background": "light"
     },
     "output_type": "display_data"
    }
   ],
   "source": [
    "print(students.studytime.unique())\n",
    "print(students.studytime.value_counts())\n",
    "students.studytime.hist()"
   ]
  },
  {
   "cell_type": "code",
   "execution_count": null,
   "id": "c477f998",
   "metadata": {},
   "outputs": [],
   "source": []
  },
  {
   "cell_type": "code",
   "execution_count": null,
   "id": "d32d156b",
   "metadata": {},
   "outputs": [],
   "source": []
  },
  {
   "cell_type": "code",
   "execution_count": 44,
   "id": "f5bdaae2",
   "metadata": {},
   "outputs": [],
   "source": [
    "#FAILURES"
   ]
  },
  {
   "cell_type": "code",
   "execution_count": 45,
   "id": "f4cbd658",
   "metadata": {},
   "outputs": [
    {
     "name": "stdout",
     "output_type": "stream",
     "text": [
      "[ 0.  3. nan  2.  1.]\n",
      "0.0    293\n",
      "1.0     49\n",
      "2.0     16\n",
      "3.0     15\n",
      "Name: failures, dtype: int64\n"
     ]
    },
    {
     "data": {
      "text/plain": [
       "<AxesSubplot:>"
      ]
     },
     "execution_count": 45,
     "metadata": {},
     "output_type": "execute_result"
    },
    {
     "data": {
      "image/png": "[encoded data removed]",
      "text/plain": [
       "<Figure size 432x288 with 1 Axes>"
      ]
     },
     "metadata": {
      "needs_background": "light"
     },
     "output_type": "display_data"
    }
   ],
   "source": [
    "print(students.failures.unique())\n",
    "print(students.failures.value_counts())\n",
    "students.failures.hist()"
   ]
  },
  {
   "cell_type": "code",
   "execution_count": null,
   "id": "d4f51295",
   "metadata": {},
   "outputs": [],
   "source": []
  },
  {
   "cell_type": "code",
   "execution_count": null,
   "id": "859b3748",
   "metadata": {},
   "outputs": [],
   "source": []
  },
  {
   "cell_type": "code",
   "execution_count": 46,
   "id": "58902381",
   "metadata": {},
   "outputs": [],
   "source": [
    "#ACTIVITIES"
   ]
  },
  {
   "cell_type": "code",
   "execution_count": 47,
   "id": "7a8e4830",
   "metadata": {},
   "outputs": [
    {
     "name": "stdout",
     "output_type": "stream",
     "text": [
      "['no' 'yes' nan]\n",
      "yes    195\n",
      "no     186\n",
      "Name: activities, dtype: int64\n",
      "Значений, встретившихся в столбце более 10 раз: 2\n"
     ]
    },
    {
     "data": {
      "image/png": "[encoded data removed]",
      "text/plain": [
       "<Figure size 432x288 with 1 Axes>"
      ]
     },
     "metadata": {
      "needs_background": "light"
     },
     "output_type": "display_data"
    }
   ],
   "source": [
    "print(students.activities.unique())\n",
    "print(students.activities.value_counts())\n",
    "students.activities.hist()\n",
    "print(\"Значений, встретившихся в столбце более 10 раз:\", (students.activities.value_counts()>10).sum())"
   ]
  },
  {
   "cell_type": "code",
   "execution_count": 48,
   "id": "8b072770",
   "metadata": {},
   "outputs": [],
   "source": [
    "#убираем 'nan'\n",
    "students.activities = students.activities.astype(str).apply(lambda x: None if x.strip() == 'nan' else x)"
   ]
  },
  {
   "cell_type": "code",
   "execution_count": 49,
   "id": "efe11253",
   "metadata": {},
   "outputs": [
    {
     "name": "stdout",
     "output_type": "stream",
     "text": [
      "['no' 'yes' None]\n",
      "yes    195\n",
      "no     186\n",
      "Name: activities, dtype: int64\n"
     ]
    }
   ],
   "source": [
    "#проверяем\n",
    "print(students.activities.unique())\n",
    "print(students.activities.value_counts())"
   ]
  },
  {
   "cell_type": "code",
   "execution_count": 50,
   "id": "d8c43335",
   "metadata": {},
   "outputs": [],
   "source": [
    "#NURSERY"
   ]
  },
  {
   "cell_type": "code",
   "execution_count": 51,
   "id": "dbc406c3",
   "metadata": {},
   "outputs": [
    {
     "name": "stdout",
     "output_type": "stream",
     "text": [
      "['yes' 'no' nan]\n",
      "yes    300\n",
      "no      79\n",
      "Name: nursery, dtype: int64\n",
      "Значений, встретившихся в столбце более 10 раз: 2\n"
     ]
    },
    {
     "data": {
      "image/png": "[encoded data removed]",
      "text/plain": [
       "<Figure size 432x288 with 1 Axes>"
      ]
     },
     "metadata": {
      "needs_background": "light"
     },
     "output_type": "display_data"
    }
   ],
   "source": [
    "print(students.nursery.unique())\n",
    "print(students.nursery.value_counts())\n",
    "students.nursery.hist()\n",
    "print(\"Значений, встретившихся в столбце более 10 раз:\", (students.nursery.value_counts()>10).sum())"
   ]
  },
  {
   "cell_type": "code",
   "execution_count": 52,
   "id": "7c1bd8ac",
   "metadata": {},
   "outputs": [],
   "source": [
    "#убираем 'nan'\n",
    "students.nursery = students.nursery.astype(str).apply(lambda x: None if x.strip() == 'nan' else x)"
   ]
  },
  {
   "cell_type": "code",
   "execution_count": 53,
   "id": "503feb73",
   "metadata": {},
   "outputs": [
    {
     "name": "stdout",
     "output_type": "stream",
     "text": [
      "['yes' 'no' None]\n",
      "yes    300\n",
      "no      79\n",
      "Name: nursery, dtype: int64\n"
     ]
    }
   ],
   "source": [
    "#проверяем\n",
    "print(students.nursery.unique())\n",
    "print(students.nursery.value_counts())"
   ]
  },
  {
   "cell_type": "code",
   "execution_count": 54,
   "id": "d8441cdc",
   "metadata": {},
   "outputs": [],
   "source": [
    "#HIGHER"
   ]
  },
  {
   "cell_type": "code",
   "execution_count": 55,
   "id": "337d93e9",
   "metadata": {},
   "outputs": [
    {
     "name": "stdout",
     "output_type": "stream",
     "text": [
      "['yes' nan 'no']\n",
      "yes    356\n",
      "no      19\n",
      "Name: higher, dtype: int64\n"
     ]
    },
    {
     "data": {
      "text/plain": [
       "<AxesSubplot:>"
      ]
     },
     "execution_count": 55,
     "metadata": {},
     "output_type": "execute_result"
    },
    {
     "data": {
      "image/png": "[encoded data removed]",
      "text/plain": [
       "<Figure size 432x288 with 1 Axes>"
      ]
     },
     "metadata": {
      "needs_background": "light"
     },
     "output_type": "display_data"
    }
   ],
   "source": [
    "print(students.higher.unique())\n",
    "print(students.higher.value_counts())\n",
    "students.higher.hist()"
   ]
  },
  {
   "cell_type": "code",
   "execution_count": 56,
   "id": "bc482a8a",
   "metadata": {},
   "outputs": [],
   "source": [
    "#убираем 'nan'\n",
    "students.higher = students.higher.astype(str).apply(lambda x: None if x.strip() == 'nan' else x)"
   ]
  },
  {
   "cell_type": "code",
   "execution_count": 57,
   "id": "79d2c2bc",
   "metadata": {},
   "outputs": [
    {
     "name": "stdout",
     "output_type": "stream",
     "text": [
      "['yes' None 'no']\n",
      "yes    356\n",
      "no      19\n",
      "Name: higher, dtype: int64\n"
     ]
    }
   ],
   "source": [
    "#проверяем\n",
    "print(students.higher.unique())\n",
    "print(students.higher.value_counts())"
   ]
  },
  {
   "cell_type": "code",
   "execution_count": 58,
   "id": "02bad170",
   "metadata": {},
   "outputs": [],
   "source": [
    "#INTERNET"
   ]
  },
  {
   "cell_type": "code",
   "execution_count": 59,
   "id": "05b913ad",
   "metadata": {},
   "outputs": [
    {
     "name": "stdout",
     "output_type": "stream",
     "text": [
      "[nan 'yes' 'no']\n",
      "yes    305\n",
      "no      56\n",
      "Name: internet, dtype: int64\n"
     ]
    },
    {
     "data": {
      "text/plain": [
       "<AxesSubplot:>"
      ]
     },
     "execution_count": 59,
     "metadata": {},
     "output_type": "execute_result"
    },
    {
     "data": {
      "image/png": "[encoded data removed]",
      "text/plain": [
       "<Figure size 432x288 with 1 Axes>"
      ]
     },
     "metadata": {
      "needs_background": "light"
     },
     "output_type": "display_data"
    }
   ],
   "source": [
    "print(students.internet.unique())\n",
    "print(students.internet.value_counts())\n",
    "students.internet.hist()"
   ]
  },
  {
   "cell_type": "code",
   "execution_count": 60,
   "id": "f5e6c947",
   "metadata": {},
   "outputs": [],
   "source": [
    "#убираем 'nan'\n",
    "students.internet = students.internet.astype(str).apply(lambda x: None if x.strip() == 'nan' else x)"
   ]
  },
  {
   "cell_type": "code",
   "execution_count": 61,
   "id": "f87b7400",
   "metadata": {},
   "outputs": [
    {
     "name": "stdout",
     "output_type": "stream",
     "text": [
      "[None 'yes' 'no']\n",
      "yes    305\n",
      "no      56\n",
      "Name: internet, dtype: int64\n"
     ]
    }
   ],
   "source": [
    "#проверяем\n",
    "print(students.internet.unique())\n",
    "print(students.internet.value_counts())"
   ]
  },
  {
   "cell_type": "code",
   "execution_count": 62,
   "id": "40429734",
   "metadata": {},
   "outputs": [],
   "source": [
    "#ROMANTIC"
   ]
  },
  {
   "cell_type": "code",
   "execution_count": 63,
   "id": "631e1067",
   "metadata": {},
   "outputs": [
    {
     "name": "stdout",
     "output_type": "stream",
     "text": [
      "['no' nan 'yes']\n",
      "no     240\n",
      "yes    124\n",
      "Name: romantic, dtype: int64\n"
     ]
    },
    {
     "data": {
      "text/plain": [
       "<AxesSubplot:>"
      ]
     },
     "execution_count": 63,
     "metadata": {},
     "output_type": "execute_result"
    },
    {
     "data": {
      "image/png": "[encoded data removed]",
      "text/plain": [
       "<Figure size 432x288 with 1 Axes>"
      ]
     },
     "metadata": {
      "needs_background": "light"
     },
     "output_type": "display_data"
    }
   ],
   "source": [
    "print(students.romantic.unique())\n",
    "print(students.romantic.value_counts())\n",
    "students.romantic.hist()"
   ]
  },
  {
   "cell_type": "code",
   "execution_count": 64,
   "id": "561dbbba",
   "metadata": {},
   "outputs": [],
   "source": [
    "#убираем 'nan'\n",
    "students.romantic = students.romantic.astype(str).apply(lambda x: None if x.strip() == 'nan' else x)"
   ]
  },
  {
   "cell_type": "code",
   "execution_count": 65,
   "id": "efc707d1",
   "metadata": {},
   "outputs": [
    {
     "name": "stdout",
     "output_type": "stream",
     "text": [
      "['no' None 'yes']\n",
      "no     240\n",
      "yes    124\n",
      "Name: romantic, dtype: int64\n"
     ]
    }
   ],
   "source": [
    "#проверяем\n",
    "print(students.romantic.unique())\n",
    "print(students.romantic.value_counts())"
   ]
  },
  {
   "cell_type": "code",
   "execution_count": 66,
   "id": "2fd6367e",
   "metadata": {},
   "outputs": [],
   "source": [
    "#FAMREL"
   ]
  },
  {
   "cell_type": "code",
   "execution_count": 67,
   "id": "f06c4cc5",
   "metadata": {},
   "outputs": [
    {
     "name": "stdout",
     "output_type": "stream",
     "text": [
      "[ 4.  5.  3. nan -1.  2.  1.]\n",
      " 4.0    182\n",
      " 5.0     99\n",
      " 3.0     62\n",
      " 2.0     17\n",
      " 1.0      7\n",
      "-1.0      1\n",
      "Name: famrel, dtype: int64\n"
     ]
    },
    {
     "data": {
      "text/plain": [
       "<AxesSubplot:>"
      ]
     },
     "execution_count": 67,
     "metadata": {},
     "output_type": "execute_result"
    },
    {
     "data": {
      "image/png": "[encoded data removed]",
      "text/plain": [
       "<Figure size 432x288 with 1 Axes>"
      ]
     },
     "metadata": {
      "needs_background": "light"
     },
     "output_type": "display_data"
    }
   ],
   "source": [
    "print(students.famrel.unique())\n",
    "print(students.famrel.value_counts())\n",
    "students.famrel.hist()"
   ]
  },
  {
   "cell_type": "code",
   "execution_count": 68,
   "id": "c170acac",
   "metadata": {},
   "outputs": [],
   "source": [
    "#Есть две ошибки - 'nan' и отрицательное значение. Сначала уберем 'nan'\n",
    "students.famrel = students.famrel.apply(lambda x: None if x is np.NaN else x)"
   ]
  },
  {
   "cell_type": "code",
   "execution_count": 69,
   "id": "e89e0f49",
   "metadata": {},
   "outputs": [
    {
     "name": "stdout",
     "output_type": "stream",
     "text": [
      "   school sex   age address famsize Pstatus  Medu  Fedu      Mjob      Fjob  \\\n",
      "25     GP   F  16.0       U     GT3    None   2.0   2.0  services  services   \n",
      "\n",
      "   reason guardian  traveltime  studytime  failures schoolsup famsup paid  \\\n",
      "25   home   mother         1.0        1.0       2.0        no    yes  yes   \n",
      "\n",
      "   activities nursery  studytime_granular higher internet romantic  famrel  \\\n",
      "25         no      no                -3.0    yes      yes       no    -1.0   \n",
      "\n",
      "    freetime  goout  health  absences  score  \n",
      "25       2.0    2.0     5.0      14.0   40.0  \n"
     ]
    },
    {
     "name": "stderr",
     "output_type": "stream",
     "text": [
      "/Users/boristroynik/opt/anaconda3/lib/python3.8/site-packages/pandas/core/indexing.py:1637: SettingWithCopyWarning: \n",
      "A value is trying to be set on a copy of a slice from a DataFrame\n",
      "\n",
      "See the caveats in the documentation: https://pandas.pydata.org/pandas-docs/stable/user_guide/indexing.html#returning-a-view-versus-a-copy\n",
      "  self._setitem_single_block(indexer, value, name)\n"
     ]
    }
   ],
   "source": [
    "#теперь, уберем отрицательное значение. Его можно просто исключить как брак данных, но я предпочту поставить 1 - самый нижний вариант, так как по-моему это и имелось в виду\n",
    "print(students[(students.famrel.astype(float) < 0)])\n",
    "students.famrel.iloc[25] = 1.0"
   ]
  },
  {
   "cell_type": "code",
   "execution_count": null,
   "id": "926dee83",
   "metadata": {},
   "outputs": [],
   "source": []
  },
  {
   "cell_type": "code",
   "execution_count": 70,
   "id": "26ec337d",
   "metadata": {},
   "outputs": [],
   "source": [
    "#FREETIME"
   ]
  },
  {
   "cell_type": "code",
   "execution_count": 71,
   "id": "a7317564",
   "metadata": {},
   "outputs": [
    {
     "name": "stdout",
     "output_type": "stream",
     "text": [
      "[ 3.  2.  4.  1.  5. nan]\n",
      "3.0    153\n",
      "4.0    112\n",
      "2.0     63\n",
      "5.0     38\n",
      "1.0     18\n",
      "Name: freetime, dtype: int64\n"
     ]
    },
    {
     "data": {
      "text/plain": [
       "<AxesSubplot:>"
      ]
     },
     "execution_count": 71,
     "metadata": {},
     "output_type": "execute_result"
    },
    {
     "data": {
      "image/png": "[encoded data removed]",
      "text/plain": [
       "<Figure size 432x288 with 1 Axes>"
      ]
     },
     "metadata": {
      "needs_background": "light"
     },
     "output_type": "display_data"
    }
   ],
   "source": [
    "print(students.freetime.unique())\n",
    "print(students.freetime.value_counts())\n",
    "students.freetime.hist()"
   ]
  },
  {
   "cell_type": "code",
   "execution_count": null,
   "id": "cc07c071",
   "metadata": {},
   "outputs": [],
   "source": []
  },
  {
   "cell_type": "code",
   "execution_count": null,
   "id": "c093454a",
   "metadata": {},
   "outputs": [],
   "source": []
  },
  {
   "cell_type": "code",
   "execution_count": 72,
   "id": "23f8a95b",
   "metadata": {},
   "outputs": [],
   "source": [
    "#GOOUT"
   ]
  },
  {
   "cell_type": "code",
   "execution_count": 73,
   "id": "eca46cf4",
   "metadata": {},
   "outputs": [
    {
     "name": "stdout",
     "output_type": "stream",
     "text": [
      "[ 4.  3.  2.  1.  5. nan]\n",
      "3.0    127\n",
      "2.0    101\n",
      "4.0     84\n",
      "5.0     52\n",
      "1.0     23\n",
      "Name: goout, dtype: int64\n"
     ]
    },
    {
     "data": {
      "text/plain": [
       "<AxesSubplot:>"
      ]
     },
     "execution_count": 73,
     "metadata": {},
     "output_type": "execute_result"
    },
    {
     "data": {
      "image/png": "[encoded data removed]",
      "text/plain": [
       "<Figure size 432x288 with 1 Axes>"
      ]
     },
     "metadata": {
      "needs_background": "light"
     },
     "output_type": "display_data"
    }
   ],
   "source": [
    "print(students.goout.unique())\n",
    "print(students.goout.value_counts())\n",
    "students.goout.hist()"
   ]
  },
  {
   "cell_type": "code",
   "execution_count": null,
   "id": "1eb8d205",
   "metadata": {},
   "outputs": [],
   "source": []
  },
  {
   "cell_type": "code",
   "execution_count": null,
   "id": "44e90be7",
   "metadata": {},
   "outputs": [],
   "source": []
  },
  {
   "cell_type": "code",
   "execution_count": 74,
   "id": "0f9c01c4",
   "metadata": {},
   "outputs": [],
   "source": [
    "#HEALTH"
   ]
  },
  {
   "cell_type": "code",
   "execution_count": 75,
   "id": "f5366c38",
   "metadata": {},
   "outputs": [
    {
     "name": "stdout",
     "output_type": "stream",
     "text": [
      "[ 3.  5.  1.  2.  4. nan]\n",
      "5.0    138\n",
      "3.0     89\n",
      "4.0     63\n",
      "1.0     47\n",
      "2.0     43\n",
      "Name: health, dtype: int64\n"
     ]
    },
    {
     "data": {
      "text/plain": [
       "<AxesSubplot:>"
      ]
     },
     "execution_count": 75,
     "metadata": {},
     "output_type": "execute_result"
    },
    {
     "data": {
      "image/png": "[encoded data removed]",
      "text/plain": [
       "<Figure size 432x288 with 1 Axes>"
      ]
     },
     "metadata": {
      "needs_background": "light"
     },
     "output_type": "display_data"
    }
   ],
   "source": [
    "print(students.health.unique())\n",
    "print(students.health.value_counts())\n",
    "students.health.hist()"
   ]
  },
  {
   "cell_type": "code",
   "execution_count": null,
   "id": "fa079466",
   "metadata": {},
   "outputs": [],
   "source": []
  },
  {
   "cell_type": "code",
   "execution_count": null,
   "id": "5b0f728e",
   "metadata": {},
   "outputs": [],
   "source": []
  },
  {
   "cell_type": "code",
   "execution_count": 76,
   "id": "b25c8ea0",
   "metadata": {},
   "outputs": [],
   "source": [
    "#ABSENCES"
   ]
  },
  {
   "cell_type": "code",
   "execution_count": 77,
   "id": "2d7d1e73",
   "metadata": {},
   "outputs": [
    {
     "name": "stdout",
     "output_type": "stream",
     "text": [
      "[  6.   4.  10.   2.   0.  16.  nan  14.   7.   8.  25.  12.  54.  18.\n",
      "  26.  20.  56.  24.  28.   5.  13.  15.  22.   3. 385.  21.   1.  75.\n",
      "  30.  19.   9.  11.  38.  40.  23.  17. 212.]\n",
      "0.0      111\n",
      "2.0       60\n",
      "4.0       53\n",
      "6.0       31\n",
      "8.0       21\n",
      "10.0      17\n",
      "14.0      12\n",
      "12.0      12\n",
      "3.0        8\n",
      "16.0       7\n",
      "7.0        6\n",
      "18.0       5\n",
      "5.0        5\n",
      "20.0       4\n",
      "9.0        3\n",
      "22.0       3\n",
      "1.0        3\n",
      "13.0       2\n",
      "15.0       2\n",
      "11.0       2\n",
      "40.0       1\n",
      "38.0       1\n",
      "56.0       1\n",
      "23.0       1\n",
      "24.0       1\n",
      "25.0       1\n",
      "385.0      1\n",
      "17.0       1\n",
      "75.0       1\n",
      "21.0       1\n",
      "212.0      1\n",
      "28.0       1\n",
      "19.0       1\n",
      "26.0       1\n",
      "30.0       1\n",
      "54.0       1\n",
      "Name: absences, dtype: int64\n"
     ]
    },
    {
     "data": {
      "text/plain": [
       "<AxesSubplot:>"
      ]
     },
     "execution_count": 77,
     "metadata": {},
     "output_type": "execute_result"
    },
    {
     "data": {
      "image/png": "[encoded data removed]",
      "text/plain": [
       "<Figure size 432x288 with 1 Axes>"
      ]
     },
     "metadata": {
      "needs_background": "light"
     },
     "output_type": "display_data"
    }
   ],
   "source": [
    "print(students.absences.unique())\n",
    "print(students.absences.value_counts())\n",
    "students.absences.hist()"
   ]
  },
  {
   "cell_type": "code",
   "execution_count": 78,
   "id": "929e0772",
   "metadata": {},
   "outputs": [
    {
     "name": "stdout",
     "output_type": "stream",
     "text": [
      "    school sex   age address famsize Pstatus  Medu  Fedu      Mjob      Fjob  \\\n",
      "40      GP   F  16.0       U     LE3       T   2.0   2.0     other     other   \n",
      "74      GP   F  16.0       U     GT3       T   3.0   3.0     other  services   \n",
      "103     GP   F  15.0       U     GT3       T   3.0   2.0  services     other   \n",
      "183     GP   F  17.0       U     LE3    None   3.0   3.0     other     other   \n",
      "198     GP   F  17.0       U     GT3    None   4.0   4.0  services   teacher   \n",
      "205     GP   F  17.0       U     GT3       T   3.0   4.0   at_home  services   \n",
      "216     GP   F  17.0       U     GT3       T   4.0   3.0     other      None   \n",
      "222     GP   F  16.0       U     GT3       T   2.0   3.0  services   teacher   \n",
      "260     GP   F  18.0       U     GT3    None   4.0   3.0      None     other   \n",
      "276     GP   F  18.0       R     GT3       A   3.0   2.0     other  services   \n",
      "277     GP   M  18.0       U     GT3       T   4.0   4.0      None  services   \n",
      "280     GP   M  17.0       U    None       A   4.0   NaN  services     other   \n",
      "307     GP   M  19.0       U     GT3    None   4.0   4.0   teacher  services   \n",
      "313     GP   F  19.0       U    None    None   3.0   2.0  services     other   \n",
      "315     GP   F  19.0       R     GT3       T   2.0   3.0     other     other   \n",
      "320     GP   F  17.0       U     GT3       A   4.0   3.0  services  services   \n",
      "390     MS   M  20.0       U     LE3       A   2.0   2.0  services  services   \n",
      "\n",
      "         reason guardian  traveltime  studytime  failures schoolsup famsup  \\\n",
      "40         home   mother         2.0        2.0       1.0        no    NaN   \n",
      "74         home   mother         1.0        2.0       0.0       yes    yes   \n",
      "103        home   mother         2.0        2.0       0.0       yes    yes   \n",
      "183  reputation   mother         1.0        2.0       0.0        no    yes   \n",
      "198        home   mother         2.0        1.0       1.0        no    yes   \n",
      "205        home   mother         1.0        3.0       1.0        no    yes   \n",
      "216  reputation   mother         1.0        2.0       2.0        no     no   \n",
      "222       other   mother         1.0        2.0       0.0       yes    NaN   \n",
      "260        home   father         1.0        2.0       0.0        no    yes   \n",
      "276        home   mother         2.0        2.0       0.0        no    NaN   \n",
      "277        home   mother         2.0        1.0       0.0        no     no   \n",
      "280        home   mother         2.0        1.0       NaN        no     no   \n",
      "307  reputation    other         2.0        1.0       1.0        no    yes   \n",
      "313  reputation    other         2.0        2.0       NaN        no    NaN   \n",
      "315  reputation    other         1.0        3.0       1.0        no     no   \n",
      "320      course   mother         1.0        2.0       NaN        no    yes   \n",
      "390      course     None         1.0        2.0       2.0        no    yes   \n",
      "\n",
      "    paid activities nursery  studytime_granular higher internet romantic  \\\n",
      "40    no        yes      no                -6.0    yes      yes      yes   \n",
      "74   yes        yes     yes                -6.0    yes      yes       no   \n",
      "103  yes         no     yes                -6.0    yes      yes       no   \n",
      "183   no        yes     yes                -6.0    yes      yes      yes   \n",
      "198   no         no     yes                -3.0    yes     None       no   \n",
      "205  yes         no     yes                -9.0    yes      yes      yes   \n",
      "216  yes         no     yes                -6.0    yes      yes      yes   \n",
      "222   no         no     yes                -6.0    yes      yes       no   \n",
      "260  yes         no     yes                -6.0    yes      yes      yes   \n",
      "276   no         no      no                -6.0     no      yes      yes   \n",
      "277  yes        yes     yes                -3.0    yes      yes       no   \n",
      "280  yes        yes     yes                -3.0    yes      yes     None   \n",
      "307  yes         no     yes                -3.0    yes      yes      yes   \n",
      "313  NaN         no      no                -6.0    yes      yes      yes   \n",
      "315   no         no     yes                -9.0    yes      yes      yes   \n",
      "320  yes         no     yes                -6.0   None      yes      yes   \n",
      "390  yes         no     yes                -6.0    yes       no       no   \n",
      "\n",
      "     famrel  freetime  goout  health  absences  score  \n",
      "40      3.0       3.0    3.0     3.0      25.0   55.0  \n",
      "74      4.0       NaN    3.0     5.0      54.0   55.0  \n",
      "103     4.0       3.0    5.0     2.0      26.0   30.0  \n",
      "183     5.0       3.0    3.0     1.0      56.0   40.0  \n",
      "198     4.0       2.0    4.0     2.0      24.0   90.0  \n",
      "205     4.0       4.0    3.0     5.0      28.0   45.0  \n",
      "216     3.0       4.0    5.0     1.0      22.0   20.0  \n",
      "222     2.0       3.0    1.0     3.0     385.0   85.0  \n",
      "260     3.0       1.0    2.0     2.0      21.0   90.0  \n",
      "276     NaN       1.0    1.0     5.0      75.0   45.0  \n",
      "277     3.0       2.0    4.0     3.0      22.0   45.0  \n",
      "280     4.0       NaN    4.0     5.0      30.0   40.0  \n",
      "307     4.0       3.0    4.0     4.0      38.0   40.0  \n",
      "313     4.0       2.0    2.0     1.0      22.0   55.0  \n",
      "315     4.0       1.0    2.0     3.0      40.0   55.0  \n",
      "320     5.0       2.0    2.0     5.0      23.0   65.0  \n",
      "390     5.0       5.0    4.0     4.0     212.0   45.0  \n"
     ]
    }
   ],
   "source": [
    "#проверяем Absences на выбросы\n",
    "IQR = students.absences.quantile(0.75) - students.absences.quantile(0.25)\n",
    "perc25 = students.absences.quantile(0.25)\n",
    "perc75 = students.absences.quantile(0.75)\n",
    "#print(students[(students.absences < perc25 - 1.5 * IQR)])\n",
    "print(students[(students.absences > perc75 + 1.5 * IQR)])"
   ]
  },
  {
   "cell_type": "code",
   "execution_count": 79,
   "id": "0c504732",
   "metadata": {},
   "outputs": [],
   "source": [
    "students.absences = students.absences[(students.absences < 212)] #убираем выбросы из Absences"
   ]
  },
  {
   "cell_type": "code",
   "execution_count": 80,
   "id": "ecba9b98",
   "metadata": {},
   "outputs": [
    {
     "name": "stdout",
     "output_type": "stream",
     "text": [
      "0.0     111\n",
      "2.0      60\n",
      "4.0      53\n",
      "6.0      31\n",
      "8.0      21\n",
      "10.0     17\n",
      "12.0     12\n",
      "14.0     12\n",
      "3.0       8\n",
      "16.0      7\n",
      "7.0       6\n",
      "5.0       5\n",
      "18.0      5\n",
      "20.0      4\n",
      "1.0       3\n",
      "22.0      3\n",
      "9.0       3\n",
      "13.0      2\n",
      "15.0      2\n",
      "11.0      2\n",
      "38.0      1\n",
      "56.0      1\n",
      "23.0      1\n",
      "24.0      1\n",
      "25.0      1\n",
      "40.0      1\n",
      "17.0      1\n",
      "75.0      1\n",
      "21.0      1\n",
      "28.0      1\n",
      "19.0      1\n",
      "26.0      1\n",
      "30.0      1\n",
      "54.0      1\n",
      "Name: absences, dtype: int64\n"
     ]
    },
    {
     "data": {
      "text/plain": [
       "<AxesSubplot:>"
      ]
     },
     "execution_count": 80,
     "metadata": {},
     "output_type": "execute_result"
    },
    {
     "data": {
      "image/png": "[encoded data removed]",
      "text/plain": [
       "<Figure size 432x288 with 1 Axes>"
      ]
     },
     "metadata": {
      "needs_background": "light"
     },
     "output_type": "display_data"
    }
   ],
   "source": [
    "#проверяем\n",
    "print(students.absences.value_counts())\n",
    "students.absences.hist()"
   ]
  },
  {
   "cell_type": "code",
   "execution_count": null,
   "id": "32756aff",
   "metadata": {},
   "outputs": [],
   "source": []
  },
  {
   "cell_type": "code",
   "execution_count": 81,
   "id": "1d9b4cb2",
   "metadata": {},
   "outputs": [
    {
     "name": "stdout",
     "output_type": "stream",
     "text": [
      "[ 6.  4. 10.  2.  0. 16. nan 14.  7.  8. 25. 12. 54. 18. 26. 20. 56. 24.\n",
      " 28.  5. 13. 15. 22.  3. 21.  1. 75. 30. 19.  9. 11. 38. 40. 23. 17.]\n",
      "0.0     111\n",
      "2.0      60\n",
      "4.0      53\n",
      "6.0      31\n",
      "8.0      21\n",
      "10.0     17\n",
      "12.0     12\n",
      "14.0     12\n",
      "3.0       8\n",
      "16.0      7\n",
      "7.0       6\n",
      "5.0       5\n",
      "18.0      5\n",
      "20.0      4\n",
      "1.0       3\n",
      "22.0      3\n",
      "9.0       3\n",
      "13.0      2\n",
      "15.0      2\n",
      "11.0      2\n",
      "38.0      1\n",
      "56.0      1\n",
      "23.0      1\n",
      "24.0      1\n",
      "25.0      1\n",
      "40.0      1\n",
      "17.0      1\n",
      "75.0      1\n",
      "21.0      1\n",
      "28.0      1\n",
      "19.0      1\n",
      "26.0      1\n",
      "30.0      1\n",
      "54.0      1\n",
      "Name: absences, dtype: int64\n"
     ]
    }
   ],
   "source": [
    "#проверяем\n",
    "print(students.absences.unique())\n",
    "print(students.absences.value_counts())"
   ]
  },
  {
   "cell_type": "code",
   "execution_count": 82,
   "id": "5d59adf0",
   "metadata": {},
   "outputs": [],
   "source": [
    "#SCORE"
   ]
  },
  {
   "cell_type": "code",
   "execution_count": 83,
   "id": "551f5b67",
   "metadata": {},
   "outputs": [
    {
     "name": "stdout",
     "output_type": "stream",
     "text": [
      "[ 30.  50.  75.  55.  95.  45.  60.  70.  80.  25.  40.  85.  90.  65.\n",
      " 100.  35.   0.  nan  20.]\n",
      "50.0     54\n",
      "55.0     46\n",
      "0.0      37\n",
      "75.0     33\n",
      "65.0     31\n",
      "60.0     31\n",
      "40.0     31\n",
      "45.0     27\n",
      "70.0     27\n",
      "80.0     16\n",
      "30.0     15\n",
      "90.0     12\n",
      "35.0      9\n",
      "25.0      7\n",
      "85.0      6\n",
      "95.0      5\n",
      "20.0      1\n",
      "100.0     1\n",
      "Name: score, dtype: int64\n"
     ]
    },
    {
     "data": {
      "text/plain": [
       "<AxesSubplot:>"
      ]
     },
     "execution_count": 83,
     "metadata": {},
     "output_type": "execute_result"
    },
    {
     "data": {
      "image/png": "[encoded data removed]",
      "text/plain": [
       "<Figure size 432x288 with 1 Axes>"
      ]
     },
     "metadata": {
      "needs_background": "light"
     },
     "output_type": "display_data"
    }
   ],
   "source": [
    "print(students.score.unique())\n",
    "print(students.score.value_counts())\n",
    "students.score.hist()"
   ]
  },
  {
   "cell_type": "code",
   "execution_count": 84,
   "id": "1e9ea6fd",
   "metadata": {},
   "outputs": [
    {
     "name": "stdout",
     "output_type": "stream",
     "text": [
      "Empty DataFrame\n",
      "Columns: [school, sex, age, address, famsize, Pstatus, Medu, Fedu, Mjob, Fjob, reason, guardian, traveltime, studytime, failures, schoolsup, famsup, paid, activities, nursery, studytime_granular, higher, internet, romantic, famrel, freetime, goout, health, absences, score]\n",
      "Index: []\n",
      "Empty DataFrame\n",
      "Columns: [school, sex, age, address, famsize, Pstatus, Medu, Fedu, Mjob, Fjob, reason, guardian, traveltime, studytime, failures, schoolsup, famsup, paid, activities, nursery, studytime_granular, higher, internet, romantic, famrel, freetime, goout, health, absences, score]\n",
      "Index: []\n"
     ]
    }
   ],
   "source": [
    "#проверяем SCORE на выбросы\n",
    "IQR = students.score.quantile(0.75) - students.age.quantile(0.25)\n",
    "perc25 = students.score.quantile(0.25)\n",
    "perc75 = students.score.quantile(0.75)\n",
    "print(students[(students.score < perc25 - 1.5 * IQR)])\n",
    "print(students[(students.score > perc75 + 1.5 * IQR)])"
   ]
  },
  {
   "cell_type": "code",
   "execution_count": 85,
   "id": "32b37923",
   "metadata": {},
   "outputs": [
    {
     "name": "stdout",
     "output_type": "stream",
     "text": [
      "40.0 70.0 54.0\n"
     ]
    }
   ],
   "source": [
    "#слишком большой разброс (IQR) чтобы что-либо отфильтровывать\n",
    "print(perc25, perc75, IQR)"
   ]
  },
  {
   "cell_type": "code",
   "execution_count": 86,
   "id": "c6f7f075",
   "metadata": {},
   "outputs": [
    {
     "name": "stderr",
     "output_type": "stream",
     "text": [
      "/Users/boristroynik/opt/anaconda3/lib/python3.8/site-packages/seaborn/_decorators.py:36: FutureWarning: Pass the following variable as a keyword arg: x. From version 0.12, the only valid positional argument will be `data`, and passing other arguments without an explicit keyword will result in an error or misinterpretation.\n",
      "  warnings.warn(\n"
     ]
    },
    {
     "data": {
      "text/plain": [
       "count    389.000000\n",
       "mean      52.262211\n",
       "std       22.919022\n",
       "min        0.000000\n",
       "25%       40.000000\n",
       "50%       55.000000\n",
       "75%       70.000000\n",
       "max      100.000000\n",
       "Name: score, dtype: float64"
      ]
     },
     "execution_count": 86,
     "metadata": {},
     "output_type": "execute_result"
    },
    {
     "data": {
      "image/png": "[encoded data removed]",
      "text/plain": [
       "<Figure size 432x288 with 1 Axes>"
      ]
     },
     "metadata": {
      "needs_background": "light"
     },
     "output_type": "display_data"
    }
   ],
   "source": [
    "sns.boxplot(students.score)\n",
    "students.score.describe()"
   ]
  },
  {
   "cell_type": "code",
   "execution_count": 87,
   "id": "55926116",
   "metadata": {},
   "outputs": [],
   "source": [
    "#FAMSUP"
   ]
  },
  {
   "cell_type": "code",
   "execution_count": 88,
   "id": "2676c3e1",
   "metadata": {},
   "outputs": [
    {
     "name": "stdout",
     "output_type": "stream",
     "text": [
      "['no' 'yes' nan]\n",
      "yes    219\n",
      "no     137\n",
      "Name: famsup, dtype: int64\n"
     ]
    },
    {
     "data": {
      "text/plain": [
       "<AxesSubplot:>"
      ]
     },
     "execution_count": 88,
     "metadata": {},
     "output_type": "execute_result"
    },
    {
     "data": {
      "image/png": "[encoded data removed]",
      "text/plain": [
       "<Figure size 432x288 with 1 Axes>"
      ]
     },
     "metadata": {
      "needs_background": "light"
     },
     "output_type": "display_data"
    }
   ],
   "source": [
    "print(students.famsup.unique())\n",
    "print(students.famsup.value_counts())\n",
    "students.famsup.hist()"
   ]
  },
  {
   "cell_type": "code",
   "execution_count": 89,
   "id": "f768c672",
   "metadata": {},
   "outputs": [],
   "source": [
    "#убираем 'nan'\n",
    "students.famsup = students.famsup.astype(str).apply(lambda x: None if x.strip() == 'nan' else x)"
   ]
  },
  {
   "cell_type": "code",
   "execution_count": 90,
   "id": "12c06125",
   "metadata": {},
   "outputs": [
    {
     "name": "stdout",
     "output_type": "stream",
     "text": [
      "['no' 'yes' None]\n",
      "yes    219\n",
      "no     137\n",
      "Name: famsup, dtype: int64\n"
     ]
    }
   ],
   "source": [
    "#проверяем\n",
    "print(students.famsup.unique())\n",
    "print(students.famsup.value_counts())"
   ]
  },
  {
   "cell_type": "code",
   "execution_count": 91,
   "id": "9dd6466f",
   "metadata": {},
   "outputs": [],
   "source": [
    "#SCHOOLSUP"
   ]
  },
  {
   "cell_type": "code",
   "execution_count": 92,
   "id": "7acc6985",
   "metadata": {},
   "outputs": [
    {
     "name": "stdout",
     "output_type": "stream",
     "text": [
      "['yes' 'no' nan]\n",
      "no     335\n",
      "yes     51\n",
      "Name: schoolsup, dtype: int64\n"
     ]
    },
    {
     "data": {
      "text/plain": [
       "<AxesSubplot:>"
      ]
     },
     "execution_count": 92,
     "metadata": {},
     "output_type": "execute_result"
    },
    {
     "data": {
      "image/png": "[encoded data removed]",
      "text/plain": [
       "<Figure size 432x288 with 1 Axes>"
      ]
     },
     "metadata": {
      "needs_background": "light"
     },
     "output_type": "display_data"
    }
   ],
   "source": [
    "print(students.schoolsup.unique())\n",
    "print(students.schoolsup.value_counts())\n",
    "students.schoolsup.hist()"
   ]
  },
  {
   "cell_type": "code",
   "execution_count": 93,
   "id": "9ee89ec0",
   "metadata": {},
   "outputs": [],
   "source": [
    "#убираем 'nan'\n",
    "students.schoolsup = students.schoolsup.astype(str).apply(lambda x: None if x.strip() == 'nan' else x)"
   ]
  },
  {
   "cell_type": "code",
   "execution_count": 94,
   "id": "68f5845f",
   "metadata": {},
   "outputs": [
    {
     "name": "stdout",
     "output_type": "stream",
     "text": [
      "['yes' 'no' None]\n",
      "no     335\n",
      "yes     51\n",
      "Name: schoolsup, dtype: int64\n"
     ]
    }
   ],
   "source": [
    "#проверяем\n",
    "print(students.schoolsup.unique())\n",
    "print(students.schoolsup.value_counts())"
   ]
  },
  {
   "cell_type": "code",
   "execution_count": 95,
   "id": "89e3ccc0",
   "metadata": {},
   "outputs": [],
   "source": [
    "#STUDYTIME GRANULAR"
   ]
  },
  {
   "cell_type": "code",
   "execution_count": 96,
   "id": "657b4a01",
   "metadata": {},
   "outputs": [
    {
     "name": "stdout",
     "output_type": "stream",
     "text": [
      "[ -6.  -9.  -3.  nan -12.]\n",
      "-6.0     194\n",
      "-3.0     103\n",
      "-9.0      64\n",
      "-12.0     27\n",
      "Name: studytime_granular, dtype: int64\n"
     ]
    },
    {
     "data": {
      "text/plain": [
       "<AxesSubplot:>"
      ]
     },
     "execution_count": 96,
     "metadata": {},
     "output_type": "execute_result"
    },
    {
     "data": {
      "image/png": "[encoded data removed]",
      "text/plain": [
       "<Figure size 432x288 with 1 Axes>"
      ]
     },
     "metadata": {
      "needs_background": "light"
     },
     "output_type": "display_data"
    }
   ],
   "source": [
    "print(students.studytime_granular.unique())\n",
    "print(students.studytime_granular.value_counts())\n",
    "students.studytime_granular.hist()"
   ]
  },
  {
   "cell_type": "code",
   "execution_count": 97,
   "id": "3ab3b7db",
   "metadata": {},
   "outputs": [],
   "source": [
    "students.studytime_granular = students.studytime_granular.dropna()"
   ]
  },
  {
   "cell_type": "code",
   "execution_count": 98,
   "id": "79eaa6c1",
   "metadata": {},
   "outputs": [
    {
     "name": "stdout",
     "output_type": "stream",
     "text": [
      "[ -6.  -9.  -3.  nan -12.]\n",
      "-6.0     194\n",
      "-3.0     103\n",
      "-9.0      64\n",
      "-12.0     27\n",
      "Name: studytime_granular, dtype: int64\n"
     ]
    },
    {
     "data": {
      "text/plain": [
       "<AxesSubplot:>"
      ]
     },
     "execution_count": 98,
     "metadata": {},
     "output_type": "execute_result"
    },
    {
     "data": {
      "image/png": "[encoded data removed]",
      "text/plain": [
       "<Figure size 432x288 with 1 Axes>"
      ]
     },
     "metadata": {
      "needs_background": "light"
     },
     "output_type": "display_data"
    }
   ],
   "source": [
    "print(students.studytime_granular.unique())\n",
    "print(students.studytime_granular.value_counts())\n",
    "students.studytime_granular.hist()"
   ]
  },
  {
   "cell_type": "code",
   "execution_count": 99,
   "id": "d2718f7a",
   "metadata": {},
   "outputs": [],
   "source": [
    "#PAID"
   ]
  },
  {
   "cell_type": "code",
   "execution_count": 100,
   "id": "44315289",
   "metadata": {},
   "outputs": [
    {
     "name": "stdout",
     "output_type": "stream",
     "text": [
      "['no' nan 'yes']\n",
      "no     200\n",
      "yes    155\n",
      "Name: paid, dtype: int64\n"
     ]
    },
    {
     "data": {
      "text/plain": [
       "<AxesSubplot:>"
      ]
     },
     "execution_count": 100,
     "metadata": {},
     "output_type": "execute_result"
    },
    {
     "data": {
      "image/png": "[encoded data removed]",
      "text/plain": [
       "<Figure size 432x288 with 1 Axes>"
      ]
     },
     "metadata": {
      "needs_background": "light"
     },
     "output_type": "display_data"
    }
   ],
   "source": [
    "print(students.paid.unique())\n",
    "print(students.paid.value_counts())\n",
    "students.paid.hist()"
   ]
  },
  {
   "cell_type": "code",
   "execution_count": 101,
   "id": "4ca26b63",
   "metadata": {},
   "outputs": [],
   "source": [
    "#убираем 'nan'\n",
    "students.paid = students.paid.astype(str).apply(lambda x: None if x.strip() == 'nan' else x)"
   ]
  },
  {
   "cell_type": "code",
   "execution_count": 102,
   "id": "02b8d315",
   "metadata": {},
   "outputs": [
    {
     "name": "stdout",
     "output_type": "stream",
     "text": [
      "['no' None 'yes']\n",
      "no     200\n",
      "yes    155\n",
      "Name: paid, dtype: int64\n"
     ]
    }
   ],
   "source": [
    "#проверяем\n",
    "print(students.paid.unique())\n",
    "print(students.paid.value_counts())"
   ]
  },
  {
   "cell_type": "code",
   "execution_count": 103,
   "id": "311dd8ed",
   "metadata": {},
   "outputs": [],
   "source": [
    "def get_boxplot(column):\n",
    "    fig, ax = plt.subplots(figsize = (14, 4))\n",
    "    sns.boxplot(x=column, y='score', \n",
    "                data=students.loc[students.loc[:, column].isin(students.loc[:, column].value_counts().index[:10])],\n",
    "               ax=ax)\n",
    "    plt.xticks(rotation=0)\n",
    "    ax.set_title('Boxplot for ' + column)\n",
    "    plt.show()"
   ]
  },
  {
   "cell_type": "code",
   "execution_count": 104,
   "id": "4a29adda",
   "metadata": {},
   "outputs": [
    {
     "data": {
      "image/png": "[encoded data removed]",
      "text/plain": [
       "<Figure size 1008x288 with 1 Axes>"
      ]
     },
     "metadata": {
      "needs_background": "light"
     },
     "output_type": "display_data"
    },
    {
     "data": {
      "image/png": "[encoded data removed]",
      "text/plain": [
       "<Figure size 1008x288 with 1 Axes>"
      ]
     },
     "metadata": {
      "needs_background": "light"
     },
     "output_type": "display_data"
    },
    {
     "data": {
      "image/png": "[encoded data removed]",
      "text/plain": [
       "<Figure size 1008x288 with 1 Axes>"
      ]
     },
     "metadata": {
      "needs_background": "light"
     },
     "output_type": "display_data"
    },
    {
     "data": {
      "image/png": "[encoded data removed]",
      "text/plain": [
       "<Figure size 1008x288 with 1 Axes>"
      ]
     },
     "metadata": {
      "needs_background": "light"
     },
     "output_type": "display_data"
    },
    {
     "data": {
      "image/png": "[encoded data removed]",
      "text/plain": [
       "<Figure size 1008x288 with 1 Axes>"
      ]
     },
     "metadata": {
      "needs_background": "light"
     },
     "output_type": "display_data"
    },
    {
     "data": {
      "image/png": "[encoded data removed]",
      "text/plain": [
       "<Figure size 1008x288 with 1 Axes>"
      ]
     },
     "metadata": {
      "needs_background": "light"
     },
     "output_type": "display_data"
    },
    {
     "data": {
      "image/png": "[encoded data removed]",
      "text/plain": [
       "<Figure size 1008x288 with 1 Axes>"
      ]
     },
     "metadata": {
      "needs_background": "light"
     },
     "output_type": "display_data"
    },
    {
     "data": {
      "image/png": "[encoded data removed]",
      "text/plain": [
       "<Figure size 1008x288 with 1 Axes>"
      ]
     },
     "metadata": {
      "needs_background": "light"
     },
     "output_type": "display_data"
    },
    {
     "data": {
      "image/png": "[encoded data removed]",
      "text/plain": [
       "<Figure size 1008x288 with 1 Axes>"
      ]
     },
     "metadata": {
      "needs_background": "light"
     },
     "output_type": "display_data"
    },
    {
     "data": {
      "image/png": "[encoded data removed]",
      "text/plain": [
       "<Figure size 1008x288 with 1 Axes>"
      ]
     },
     "metadata": {
      "needs_background": "light"
     },
     "output_type": "display_data"
    },
    {
     "data": {
      "image/png": "[encoded data removed]",
      "text/plain": [
       "<Figure size 1008x288 with 1 Axes>"
      ]
     },
     "metadata": {
      "needs_background": "light"
     },
     "output_type": "display_data"
    },
    {
     "data": {
      "image/png": "[encoded data removed]",
      "text/plain": [
       "<Figure size 1008x288 with 1 Axes>"
      ]
     },
     "metadata": {
      "needs_background": "light"
     },
     "output_type": "display_data"
    },
    {
     "data": {
      "image/png": "[encoded data removed]",
      "text/plain": [
       "<Figure size 1008x288 with 1 Axes>"
      ]
     },
     "metadata": {
      "needs_background": "light"
     },
     "output_type": "display_data"
    },
    {
     "data": {
      "image/png": "[encoded data removed]",
      "text/plain": [
       "<Figure size 1008x288 with 1 Axes>"
      ]
     },
     "metadata": {
      "needs_background": "light"
     },
     "output_type": "display_data"
    },
    {
     "data": {
      "image/png": "[encoded data removed]",
      "text/plain": [
       "<Figure size 1008x288 with 1 Axes>"
      ]
     },
     "metadata": {
      "needs_background": "light"
     },
     "output_type": "display_data"
    },
    {
     "data": {
      "image/png": "[encoded data removed]",
      "text/plain": [
       "<Figure size 1008x288 with 1 Axes>"
      ]
     },
     "metadata": {
      "needs_background": "light"
     },
     "output_type": "display_data"
    },
    {
     "data": {
      "image/png": "[encoded data removed]",
      "text/plain": [
       "<Figure size 1008x288 with 1 Axes>"
      ]
     },
     "metadata": {
      "needs_background": "light"
     },
     "output_type": "display_data"
    },
    {
     "data": {
      "image/png": "[encoded data removed]",
      "text/plain": [
       "<Figure size 1008x288 with 1 Axes>"
      ]
     },
     "metadata": {
      "needs_background": "light"
     },
     "output_type": "display_data"
    }
   ],
   "source": [
    "for col in ['school', 'sex', 'address','famsize','Pstatus','Mjob','Fjob','reason','guardian','schoolsup','famsup','paid','activities','nursery','higher','internet','romantic', 'paid']:\n",
    "    get_boxplot(col)"
   ]
  },
  {
   "cell_type": "code",
   "execution_count": 105,
   "id": "2e4f774c",
   "metadata": {},
   "outputs": [],
   "source": [
    "def get_stat_dif(column):\n",
    "    cols = students.loc[:, column].value_counts().index[:10]\n",
    "    combinations_all = list(combinations(cols, 2))\n",
    "    for comb in combinations_all:\n",
    "        if ttest_ind(students.loc[students.loc[:, column] == comb[0], 'score'], \n",
    "                        students.loc[students.loc[:, column] == comb[1], 'score']).pvalue \\\n",
    "            <= 0.05/len(combinations_all): # Учли поправку Бонферони\n",
    "            #print(comb[0],comb[1])\n",
    "            print('Найдены статистически значимые различия для колонки', column)\n",
    "            break"
   ]
  },
  {
   "cell_type": "code",
   "execution_count": 106,
   "id": "1b39d3c1",
   "metadata": {},
   "outputs": [
    {
     "name": "stdout",
     "output_type": "stream",
     "text": [
      "Найдены статистически значимые различия для колонки Mjob\n",
      "Что интересно - на графиках видно, что наличие высшего образования у родителей влияет на средний результат теста, но Т-тест этого не улавливает. Также, студенты у которых Fjob == teacher также в среднем имеют более высокий результат, но при этом T-test отобрал Mjob *visually confused*\n"
     ]
    }
   ],
   "source": [
    "for col in ['school', 'sex', 'address','famsize','Pstatus','Mjob','Fjob','reason','guardian','schoolsup','famsup','paid','activities','nursery','higher','internet','romantic']:\n",
    "    get_stat_dif(col)\n",
    "print('Что интересно - на графиках видно, что наличие высшего образования у родителей влияет на средний результат теста, но Т-тест этого не улавливает. Также, студенты у которых Fjob == teacher также в среднем имеют более высокий результат, но при этом T-test отобрал Mjob *visually confused*')"
   ]
  },
  {
   "cell_type": "code",
   "execution_count": 107,
   "id": "c5c01aab",
   "metadata": {},
   "outputs": [
    {
     "name": "stdout",
     "output_type": "stream",
     "text": [
      "На корреляционный таблице видим высокую корреляцию Fedu и Medu, а все отсальные признаки выражены слабо и не коррелируют друг с другом. Видим негативное влияние travel time, go out, health. Позитивное влияние studytime, Medu и Fedu. Что интересно - age и failures показывают отрицательную корреляцию, но важно не путать correlation и  causation. Похоже, что те кто уже провалили экзамен вероятнее провалят его снова, а также что математика становится более сложной по мере продвижения в школе, поэтому и отрицательная корреляция с age \n"
     ]
    },
    {
     "data": {
      "text/html": [
       "<div>\n",
       "<style scoped>\n",
       "    .dataframe tbody tr th:only-of-type {\n",
       "        vertical-align: middle;\n",
       "    }\n",
       "\n",
       "    .dataframe tbody tr th {\n",
       "        vertical-align: top;\n",
       "    }\n",
       "\n",
       "    .dataframe thead th {\n",
       "        text-align: right;\n",
       "    }\n",
       "</style>\n",
       "<table border=\"1\" class=\"dataframe\">\n",
       "  <thead>\n",
       "    <tr style=\"text-align: right;\">\n",
       "      <th></th>\n",
       "      <th>age</th>\n",
       "      <th>Medu</th>\n",
       "      <th>Fedu</th>\n",
       "      <th>traveltime</th>\n",
       "      <th>studytime</th>\n",
       "      <th>failures</th>\n",
       "      <th>studytime_granular</th>\n",
       "      <th>famrel</th>\n",
       "      <th>freetime</th>\n",
       "      <th>goout</th>\n",
       "      <th>health</th>\n",
       "      <th>absences</th>\n",
       "      <th>score</th>\n",
       "    </tr>\n",
       "  </thead>\n",
       "  <tbody>\n",
       "    <tr>\n",
       "      <th>age</th>\n",
       "      <td>1.000000</td>\n",
       "      <td>-0.167883</td>\n",
       "      <td>-0.152024</td>\n",
       "      <td>0.090864</td>\n",
       "      <td>-0.002354</td>\n",
       "      <td>0.195891</td>\n",
       "      <td>0.002354</td>\n",
       "      <td>0.055561</td>\n",
       "      <td>0.021067</td>\n",
       "      <td>0.119997</td>\n",
       "      <td>-0.047402</td>\n",
       "      <td>0.156766</td>\n",
       "      <td>-0.153518</td>\n",
       "    </tr>\n",
       "    <tr>\n",
       "      <th>Medu</th>\n",
       "      <td>-0.167883</td>\n",
       "      <td>1.000000</td>\n",
       "      <td>0.625516</td>\n",
       "      <td>-0.173515</td>\n",
       "      <td>0.078589</td>\n",
       "      <td>-0.245463</td>\n",
       "      <td>-0.078589</td>\n",
       "      <td>-0.014459</td>\n",
       "      <td>0.025335</td>\n",
       "      <td>0.064164</td>\n",
       "      <td>-0.045051</td>\n",
       "      <td>0.097295</td>\n",
       "      <td>0.213349</td>\n",
       "    </tr>\n",
       "    <tr>\n",
       "      <th>Fedu</th>\n",
       "      <td>-0.152024</td>\n",
       "      <td>0.625516</td>\n",
       "      <td>1.000000</td>\n",
       "      <td>-0.145349</td>\n",
       "      <td>0.012896</td>\n",
       "      <td>-0.272882</td>\n",
       "      <td>-0.012896</td>\n",
       "      <td>-0.026122</td>\n",
       "      <td>-0.025892</td>\n",
       "      <td>0.042663</td>\n",
       "      <td>0.023862</td>\n",
       "      <td>0.040514</td>\n",
       "      <td>0.130923</td>\n",
       "    </tr>\n",
       "    <tr>\n",
       "      <th>traveltime</th>\n",
       "      <td>0.090864</td>\n",
       "      <td>-0.173515</td>\n",
       "      <td>-0.145349</td>\n",
       "      <td>1.000000</td>\n",
       "      <td>-0.102206</td>\n",
       "      <td>0.064699</td>\n",
       "      <td>0.102206</td>\n",
       "      <td>-0.021542</td>\n",
       "      <td>-0.021937</td>\n",
       "      <td>0.037636</td>\n",
       "      <td>-0.021531</td>\n",
       "      <td>-0.014040</td>\n",
       "      <td>-0.070559</td>\n",
       "    </tr>\n",
       "    <tr>\n",
       "      <th>studytime</th>\n",
       "      <td>-0.002354</td>\n",
       "      <td>0.078589</td>\n",
       "      <td>0.012896</td>\n",
       "      <td>-0.102206</td>\n",
       "      <td>1.000000</td>\n",
       "      <td>-0.178992</td>\n",
       "      <td>-1.000000</td>\n",
       "      <td>0.039555</td>\n",
       "      <td>-0.121969</td>\n",
       "      <td>-0.051280</td>\n",
       "      <td>-0.080016</td>\n",
       "      <td>-0.067734</td>\n",
       "      <td>0.115741</td>\n",
       "    </tr>\n",
       "    <tr>\n",
       "      <th>failures</th>\n",
       "      <td>0.195891</td>\n",
       "      <td>-0.245463</td>\n",
       "      <td>-0.272882</td>\n",
       "      <td>0.064699</td>\n",
       "      <td>-0.178992</td>\n",
       "      <td>1.000000</td>\n",
       "      <td>0.178992</td>\n",
       "      <td>-0.009110</td>\n",
       "      <td>0.098382</td>\n",
       "      <td>0.120914</td>\n",
       "      <td>0.081284</td>\n",
       "      <td>0.069703</td>\n",
       "      <td>-0.344338</td>\n",
       "    </tr>\n",
       "    <tr>\n",
       "      <th>studytime_granular</th>\n",
       "      <td>0.002354</td>\n",
       "      <td>-0.078589</td>\n",
       "      <td>-0.012896</td>\n",
       "      <td>0.102206</td>\n",
       "      <td>-1.000000</td>\n",
       "      <td>0.178992</td>\n",
       "      <td>1.000000</td>\n",
       "      <td>-0.039555</td>\n",
       "      <td>0.121969</td>\n",
       "      <td>0.051280</td>\n",
       "      <td>0.080016</td>\n",
       "      <td>0.067734</td>\n",
       "      <td>-0.115741</td>\n",
       "    </tr>\n",
       "    <tr>\n",
       "      <th>famrel</th>\n",
       "      <td>0.055561</td>\n",
       "      <td>-0.014459</td>\n",
       "      <td>-0.026122</td>\n",
       "      <td>-0.021542</td>\n",
       "      <td>0.039555</td>\n",
       "      <td>-0.009110</td>\n",
       "      <td>-0.039555</td>\n",
       "      <td>1.000000</td>\n",
       "      <td>0.172751</td>\n",
       "      <td>0.077167</td>\n",
       "      <td>0.086309</td>\n",
       "      <td>-0.051402</td>\n",
       "      <td>0.055305</td>\n",
       "    </tr>\n",
       "    <tr>\n",
       "      <th>freetime</th>\n",
       "      <td>0.021067</td>\n",
       "      <td>0.025335</td>\n",
       "      <td>-0.025892</td>\n",
       "      <td>-0.021937</td>\n",
       "      <td>-0.121969</td>\n",
       "      <td>0.098382</td>\n",
       "      <td>0.121969</td>\n",
       "      <td>0.172751</td>\n",
       "      <td>1.000000</td>\n",
       "      <td>0.296437</td>\n",
       "      <td>0.061575</td>\n",
       "      <td>-0.070416</td>\n",
       "      <td>0.019026</td>\n",
       "    </tr>\n",
       "    <tr>\n",
       "      <th>goout</th>\n",
       "      <td>0.119997</td>\n",
       "      <td>0.064164</td>\n",
       "      <td>0.042663</td>\n",
       "      <td>0.037636</td>\n",
       "      <td>-0.051280</td>\n",
       "      <td>0.120914</td>\n",
       "      <td>0.051280</td>\n",
       "      <td>0.077167</td>\n",
       "      <td>0.296437</td>\n",
       "      <td>1.000000</td>\n",
       "      <td>-0.015608</td>\n",
       "      <td>0.036836</td>\n",
       "      <td>-0.129685</td>\n",
       "    </tr>\n",
       "    <tr>\n",
       "      <th>health</th>\n",
       "      <td>-0.047402</td>\n",
       "      <td>-0.045051</td>\n",
       "      <td>0.023862</td>\n",
       "      <td>-0.021531</td>\n",
       "      <td>-0.080016</td>\n",
       "      <td>0.081284</td>\n",
       "      <td>0.080016</td>\n",
       "      <td>0.086309</td>\n",
       "      <td>0.061575</td>\n",
       "      <td>-0.015608</td>\n",
       "      <td>1.000000</td>\n",
       "      <td>-0.021752</td>\n",
       "      <td>-0.070460</td>\n",
       "    </tr>\n",
       "    <tr>\n",
       "      <th>absences</th>\n",
       "      <td>0.156766</td>\n",
       "      <td>0.097295</td>\n",
       "      <td>0.040514</td>\n",
       "      <td>-0.014040</td>\n",
       "      <td>-0.067734</td>\n",
       "      <td>0.069703</td>\n",
       "      <td>0.067734</td>\n",
       "      <td>-0.051402</td>\n",
       "      <td>-0.070416</td>\n",
       "      <td>0.036836</td>\n",
       "      <td>-0.021752</td>\n",
       "      <td>1.000000</td>\n",
       "      <td>0.031698</td>\n",
       "    </tr>\n",
       "    <tr>\n",
       "      <th>score</th>\n",
       "      <td>-0.153518</td>\n",
       "      <td>0.213349</td>\n",
       "      <td>0.130923</td>\n",
       "      <td>-0.070559</td>\n",
       "      <td>0.115741</td>\n",
       "      <td>-0.344338</td>\n",
       "      <td>-0.115741</td>\n",
       "      <td>0.055305</td>\n",
       "      <td>0.019026</td>\n",
       "      <td>-0.129685</td>\n",
       "      <td>-0.070460</td>\n",
       "      <td>0.031698</td>\n",
       "      <td>1.000000</td>\n",
       "    </tr>\n",
       "  </tbody>\n",
       "</table>\n",
       "</div>"
      ],
      "text/plain": [
       "                         age      Medu      Fedu  traveltime  studytime  \\\n",
       "age                 1.000000 -0.167883 -0.152024    0.090864  -0.002354   \n",
       "Medu               -0.167883  1.000000  0.625516   -0.173515   0.078589   \n",
       "Fedu               -0.152024  0.625516  1.000000   -0.145349   0.012896   \n",
       "traveltime          0.090864 -0.173515 -0.145349    1.000000  -0.102206   \n",
       "studytime          -0.002354  0.078589  0.012896   -0.102206   1.000000   \n",
       "failures            0.195891 -0.245463 -0.272882    0.064699  -0.178992   \n",
       "studytime_granular  0.002354 -0.078589 -0.012896    0.102206  -1.000000   \n",
       "famrel              0.055561 -0.014459 -0.026122   -0.021542   0.039555   \n",
       "freetime            0.021067  0.025335 -0.025892   -0.021937  -0.121969   \n",
       "goout               0.119997  0.064164  0.042663    0.037636  -0.051280   \n",
       "health             -0.047402 -0.045051  0.023862   -0.021531  -0.080016   \n",
       "absences            0.156766  0.097295  0.040514   -0.014040  -0.067734   \n",
       "score              -0.153518  0.213349  0.130923   -0.070559   0.115741   \n",
       "\n",
       "                    failures  studytime_granular    famrel  freetime  \\\n",
       "age                 0.195891            0.002354  0.055561  0.021067   \n",
       "Medu               -0.245463           -0.078589 -0.014459  0.025335   \n",
       "Fedu               -0.272882           -0.012896 -0.026122 -0.025892   \n",
       "traveltime          0.064699            0.102206 -0.021542 -0.021937   \n",
       "studytime          -0.178992           -1.000000  0.039555 -0.121969   \n",
       "failures            1.000000            0.178992 -0.009110  0.098382   \n",
       "studytime_granular  0.178992            1.000000 -0.039555  0.121969   \n",
       "famrel             -0.009110           -0.039555  1.000000  0.172751   \n",
       "freetime            0.098382            0.121969  0.172751  1.000000   \n",
       "goout               0.120914            0.051280  0.077167  0.296437   \n",
       "health              0.081284            0.080016  0.086309  0.061575   \n",
       "absences            0.069703            0.067734 -0.051402 -0.070416   \n",
       "score              -0.344338           -0.115741  0.055305  0.019026   \n",
       "\n",
       "                       goout    health  absences     score  \n",
       "age                 0.119997 -0.047402  0.156766 -0.153518  \n",
       "Medu                0.064164 -0.045051  0.097295  0.213349  \n",
       "Fedu                0.042663  0.023862  0.040514  0.130923  \n",
       "traveltime          0.037636 -0.021531 -0.014040 -0.070559  \n",
       "studytime          -0.051280 -0.080016 -0.067734  0.115741  \n",
       "failures            0.120914  0.081284  0.069703 -0.344338  \n",
       "studytime_granular  0.051280  0.080016  0.067734 -0.115741  \n",
       "famrel              0.077167  0.086309 -0.051402  0.055305  \n",
       "freetime            0.296437  0.061575 -0.070416  0.019026  \n",
       "goout               1.000000 -0.015608  0.036836 -0.129685  \n",
       "health             -0.015608  1.000000 -0.021752 -0.070460  \n",
       "absences            0.036836 -0.021752  1.000000  0.031698  \n",
       "score              -0.129685 -0.070460  0.031698  1.000000  "
      ]
     },
     "execution_count": 107,
     "metadata": {},
     "output_type": "execute_result"
    }
   ],
   "source": [
    "print('На корреляционный таблице видим высокую корреляцию Fedu и Medu, а все отсальные признаки выражены слабо и не коррелируют друг с другом. Видим негативное влияние travel time, go out, health. Позитивное влияние studytime, Medu и Fedu. Что интересно - age и failures показывают отрицательную корреляцию, но важно не путать correlation и  causation. Похоже, что те кто уже провалили экзамен вероятнее провалят его снова, а также что математика становится более сложной по мере продвижения в школе, поэтому и отрицательная корреляция с age ')\n",
    "students.corr()"
   ]
  },
  {
   "cell_type": "code",
   "execution_count": 108,
   "id": "189cea03",
   "metadata": {},
   "outputs": [
    {
     "data": {
      "text/html": [
       "<div>\n",
       "<style scoped>\n",
       "    .dataframe tbody tr th:only-of-type {\n",
       "        vertical-align: middle;\n",
       "    }\n",
       "\n",
       "    .dataframe tbody tr th {\n",
       "        vertical-align: top;\n",
       "    }\n",
       "\n",
       "    .dataframe thead th {\n",
       "        text-align: right;\n",
       "    }\n",
       "</style>\n",
       "<table border=\"1\" class=\"dataframe\">\n",
       "  <thead>\n",
       "    <tr style=\"text-align: right;\">\n",
       "      <th></th>\n",
       "      <th>age</th>\n",
       "      <th>Medu</th>\n",
       "      <th>traveltime</th>\n",
       "      <th>studytime</th>\n",
       "      <th>Mjob</th>\n",
       "      <th>failures</th>\n",
       "      <th>studytime_granular</th>\n",
       "      <th>famrel</th>\n",
       "      <th>freetime</th>\n",
       "      <th>goout</th>\n",
       "      <th>health</th>\n",
       "      <th>absences</th>\n",
       "      <th>score</th>\n",
       "    </tr>\n",
       "  </thead>\n",
       "  <tbody>\n",
       "    <tr>\n",
       "      <th>0</th>\n",
       "      <td>18.0</td>\n",
       "      <td>4.0</td>\n",
       "      <td>2.0</td>\n",
       "      <td>2.0</td>\n",
       "      <td>at_home</td>\n",
       "      <td>0.0</td>\n",
       "      <td>-6.0</td>\n",
       "      <td>4.0</td>\n",
       "      <td>3.0</td>\n",
       "      <td>4.0</td>\n",
       "      <td>3.0</td>\n",
       "      <td>6.0</td>\n",
       "      <td>30.0</td>\n",
       "    </tr>\n",
       "    <tr>\n",
       "      <th>1</th>\n",
       "      <td>17.0</td>\n",
       "      <td>1.0</td>\n",
       "      <td>1.0</td>\n",
       "      <td>2.0</td>\n",
       "      <td>at_home</td>\n",
       "      <td>0.0</td>\n",
       "      <td>-6.0</td>\n",
       "      <td>5.0</td>\n",
       "      <td>3.0</td>\n",
       "      <td>3.0</td>\n",
       "      <td>3.0</td>\n",
       "      <td>4.0</td>\n",
       "      <td>30.0</td>\n",
       "    </tr>\n",
       "    <tr>\n",
       "      <th>2</th>\n",
       "      <td>15.0</td>\n",
       "      <td>1.0</td>\n",
       "      <td>1.0</td>\n",
       "      <td>2.0</td>\n",
       "      <td>at_home</td>\n",
       "      <td>3.0</td>\n",
       "      <td>-6.0</td>\n",
       "      <td>4.0</td>\n",
       "      <td>3.0</td>\n",
       "      <td>2.0</td>\n",
       "      <td>3.0</td>\n",
       "      <td>10.0</td>\n",
       "      <td>50.0</td>\n",
       "    </tr>\n",
       "    <tr>\n",
       "      <th>3</th>\n",
       "      <td>15.0</td>\n",
       "      <td>4.0</td>\n",
       "      <td>1.0</td>\n",
       "      <td>3.0</td>\n",
       "      <td>health</td>\n",
       "      <td>0.0</td>\n",
       "      <td>-9.0</td>\n",
       "      <td>3.0</td>\n",
       "      <td>2.0</td>\n",
       "      <td>2.0</td>\n",
       "      <td>5.0</td>\n",
       "      <td>2.0</td>\n",
       "      <td>75.0</td>\n",
       "    </tr>\n",
       "    <tr>\n",
       "      <th>4</th>\n",
       "      <td>16.0</td>\n",
       "      <td>3.0</td>\n",
       "      <td>1.0</td>\n",
       "      <td>2.0</td>\n",
       "      <td>other</td>\n",
       "      <td>0.0</td>\n",
       "      <td>-6.0</td>\n",
       "      <td>4.0</td>\n",
       "      <td>3.0</td>\n",
       "      <td>2.0</td>\n",
       "      <td>5.0</td>\n",
       "      <td>4.0</td>\n",
       "      <td>50.0</td>\n",
       "    </tr>\n",
       "    <tr>\n",
       "      <th>5</th>\n",
       "      <td>16.0</td>\n",
       "      <td>4.0</td>\n",
       "      <td>1.0</td>\n",
       "      <td>2.0</td>\n",
       "      <td>services</td>\n",
       "      <td>0.0</td>\n",
       "      <td>-6.0</td>\n",
       "      <td>5.0</td>\n",
       "      <td>4.0</td>\n",
       "      <td>2.0</td>\n",
       "      <td>5.0</td>\n",
       "      <td>10.0</td>\n",
       "      <td>75.0</td>\n",
       "    </tr>\n",
       "    <tr>\n",
       "      <th>6</th>\n",
       "      <td>16.0</td>\n",
       "      <td>2.0</td>\n",
       "      <td>1.0</td>\n",
       "      <td>2.0</td>\n",
       "      <td>other</td>\n",
       "      <td>0.0</td>\n",
       "      <td>-6.0</td>\n",
       "      <td>4.0</td>\n",
       "      <td>4.0</td>\n",
       "      <td>4.0</td>\n",
       "      <td>3.0</td>\n",
       "      <td>0.0</td>\n",
       "      <td>55.0</td>\n",
       "    </tr>\n",
       "    <tr>\n",
       "      <th>7</th>\n",
       "      <td>17.0</td>\n",
       "      <td>4.0</td>\n",
       "      <td>2.0</td>\n",
       "      <td>2.0</td>\n",
       "      <td>other</td>\n",
       "      <td>0.0</td>\n",
       "      <td>-6.0</td>\n",
       "      <td>4.0</td>\n",
       "      <td>1.0</td>\n",
       "      <td>4.0</td>\n",
       "      <td>1.0</td>\n",
       "      <td>6.0</td>\n",
       "      <td>30.0</td>\n",
       "    </tr>\n",
       "    <tr>\n",
       "      <th>8</th>\n",
       "      <td>15.0</td>\n",
       "      <td>3.0</td>\n",
       "      <td>1.0</td>\n",
       "      <td>2.0</td>\n",
       "      <td>services</td>\n",
       "      <td>0.0</td>\n",
       "      <td>-6.0</td>\n",
       "      <td>NaN</td>\n",
       "      <td>2.0</td>\n",
       "      <td>2.0</td>\n",
       "      <td>1.0</td>\n",
       "      <td>0.0</td>\n",
       "      <td>95.0</td>\n",
       "    </tr>\n",
       "    <tr>\n",
       "      <th>9</th>\n",
       "      <td>15.0</td>\n",
       "      <td>3.0</td>\n",
       "      <td>1.0</td>\n",
       "      <td>2.0</td>\n",
       "      <td>other</td>\n",
       "      <td>0.0</td>\n",
       "      <td>-6.0</td>\n",
       "      <td>5.0</td>\n",
       "      <td>5.0</td>\n",
       "      <td>1.0</td>\n",
       "      <td>5.0</td>\n",
       "      <td>0.0</td>\n",
       "      <td>75.0</td>\n",
       "    </tr>\n",
       "    <tr>\n",
       "      <th>10</th>\n",
       "      <td>15.0</td>\n",
       "      <td>4.0</td>\n",
       "      <td>1.0</td>\n",
       "      <td>2.0</td>\n",
       "      <td>teacher</td>\n",
       "      <td>0.0</td>\n",
       "      <td>-6.0</td>\n",
       "      <td>3.0</td>\n",
       "      <td>3.0</td>\n",
       "      <td>3.0</td>\n",
       "      <td>2.0</td>\n",
       "      <td>0.0</td>\n",
       "      <td>45.0</td>\n",
       "    </tr>\n",
       "    <tr>\n",
       "      <th>11</th>\n",
       "      <td>15.0</td>\n",
       "      <td>2.0</td>\n",
       "      <td>3.0</td>\n",
       "      <td>3.0</td>\n",
       "      <td>services</td>\n",
       "      <td>0.0</td>\n",
       "      <td>-9.0</td>\n",
       "      <td>5.0</td>\n",
       "      <td>2.0</td>\n",
       "      <td>2.0</td>\n",
       "      <td>4.0</td>\n",
       "      <td>4.0</td>\n",
       "      <td>60.0</td>\n",
       "    </tr>\n",
       "    <tr>\n",
       "      <th>12</th>\n",
       "      <td>15.0</td>\n",
       "      <td>4.0</td>\n",
       "      <td>1.0</td>\n",
       "      <td>1.0</td>\n",
       "      <td>health</td>\n",
       "      <td>0.0</td>\n",
       "      <td>-3.0</td>\n",
       "      <td>NaN</td>\n",
       "      <td>3.0</td>\n",
       "      <td>3.0</td>\n",
       "      <td>5.0</td>\n",
       "      <td>2.0</td>\n",
       "      <td>70.0</td>\n",
       "    </tr>\n",
       "    <tr>\n",
       "      <th>13</th>\n",
       "      <td>15.0</td>\n",
       "      <td>4.0</td>\n",
       "      <td>2.0</td>\n",
       "      <td>2.0</td>\n",
       "      <td>teacher</td>\n",
       "      <td>0.0</td>\n",
       "      <td>-6.0</td>\n",
       "      <td>5.0</td>\n",
       "      <td>4.0</td>\n",
       "      <td>3.0</td>\n",
       "      <td>3.0</td>\n",
       "      <td>2.0</td>\n",
       "      <td>55.0</td>\n",
       "    </tr>\n",
       "    <tr>\n",
       "      <th>14</th>\n",
       "      <td>15.0</td>\n",
       "      <td>2.0</td>\n",
       "      <td>1.0</td>\n",
       "      <td>3.0</td>\n",
       "      <td>other</td>\n",
       "      <td>0.0</td>\n",
       "      <td>-9.0</td>\n",
       "      <td>4.0</td>\n",
       "      <td>5.0</td>\n",
       "      <td>2.0</td>\n",
       "      <td>3.0</td>\n",
       "      <td>0.0</td>\n",
       "      <td>80.0</td>\n",
       "    </tr>\n",
       "    <tr>\n",
       "      <th>15</th>\n",
       "      <td>16.0</td>\n",
       "      <td>4.0</td>\n",
       "      <td>1.0</td>\n",
       "      <td>1.0</td>\n",
       "      <td>health</td>\n",
       "      <td>0.0</td>\n",
       "      <td>-3.0</td>\n",
       "      <td>4.0</td>\n",
       "      <td>4.0</td>\n",
       "      <td>4.0</td>\n",
       "      <td>2.0</td>\n",
       "      <td>4.0</td>\n",
       "      <td>70.0</td>\n",
       "    </tr>\n",
       "    <tr>\n",
       "      <th>16</th>\n",
       "      <td>16.0</td>\n",
       "      <td>4.0</td>\n",
       "      <td>1.0</td>\n",
       "      <td>3.0</td>\n",
       "      <td>services</td>\n",
       "      <td>0.0</td>\n",
       "      <td>-9.0</td>\n",
       "      <td>3.0</td>\n",
       "      <td>2.0</td>\n",
       "      <td>3.0</td>\n",
       "      <td>2.0</td>\n",
       "      <td>6.0</td>\n",
       "      <td>70.0</td>\n",
       "    </tr>\n",
       "    <tr>\n",
       "      <th>17</th>\n",
       "      <td>16.0</td>\n",
       "      <td>3.0</td>\n",
       "      <td>3.0</td>\n",
       "      <td>NaN</td>\n",
       "      <td>other</td>\n",
       "      <td>0.0</td>\n",
       "      <td>NaN</td>\n",
       "      <td>5.0</td>\n",
       "      <td>3.0</td>\n",
       "      <td>2.0</td>\n",
       "      <td>4.0</td>\n",
       "      <td>4.0</td>\n",
       "      <td>50.0</td>\n",
       "    </tr>\n",
       "    <tr>\n",
       "      <th>18</th>\n",
       "      <td>17.0</td>\n",
       "      <td>3.0</td>\n",
       "      <td>1.0</td>\n",
       "      <td>1.0</td>\n",
       "      <td>services</td>\n",
       "      <td>3.0</td>\n",
       "      <td>-3.0</td>\n",
       "      <td>5.0</td>\n",
       "      <td>5.0</td>\n",
       "      <td>5.0</td>\n",
       "      <td>5.0</td>\n",
       "      <td>16.0</td>\n",
       "      <td>25.0</td>\n",
       "    </tr>\n",
       "    <tr>\n",
       "      <th>19</th>\n",
       "      <td>16.0</td>\n",
       "      <td>4.0</td>\n",
       "      <td>1.0</td>\n",
       "      <td>1.0</td>\n",
       "      <td>health</td>\n",
       "      <td>0.0</td>\n",
       "      <td>-3.0</td>\n",
       "      <td>3.0</td>\n",
       "      <td>1.0</td>\n",
       "      <td>3.0</td>\n",
       "      <td>5.0</td>\n",
       "      <td>4.0</td>\n",
       "      <td>50.0</td>\n",
       "    </tr>\n",
       "    <tr>\n",
       "      <th>20</th>\n",
       "      <td>15.0</td>\n",
       "      <td>4.0</td>\n",
       "      <td>1.0</td>\n",
       "      <td>2.0</td>\n",
       "      <td>teacher</td>\n",
       "      <td>0.0</td>\n",
       "      <td>-6.0</td>\n",
       "      <td>NaN</td>\n",
       "      <td>4.0</td>\n",
       "      <td>1.0</td>\n",
       "      <td>1.0</td>\n",
       "      <td>0.0</td>\n",
       "      <td>75.0</td>\n",
       "    </tr>\n",
       "    <tr>\n",
       "      <th>21</th>\n",
       "      <td>15.0</td>\n",
       "      <td>4.0</td>\n",
       "      <td>1.0</td>\n",
       "      <td>1.0</td>\n",
       "      <td>health</td>\n",
       "      <td>NaN</td>\n",
       "      <td>-3.0</td>\n",
       "      <td>5.0</td>\n",
       "      <td>4.0</td>\n",
       "      <td>2.0</td>\n",
       "      <td>5.0</td>\n",
       "      <td>0.0</td>\n",
       "      <td>75.0</td>\n",
       "    </tr>\n",
       "    <tr>\n",
       "      <th>22</th>\n",
       "      <td>16.0</td>\n",
       "      <td>4.0</td>\n",
       "      <td>1.0</td>\n",
       "      <td>2.0</td>\n",
       "      <td>teacher</td>\n",
       "      <td>0.0</td>\n",
       "      <td>-6.0</td>\n",
       "      <td>4.0</td>\n",
       "      <td>5.0</td>\n",
       "      <td>1.0</td>\n",
       "      <td>5.0</td>\n",
       "      <td>2.0</td>\n",
       "      <td>80.0</td>\n",
       "    </tr>\n",
       "    <tr>\n",
       "      <th>23</th>\n",
       "      <td>16.0</td>\n",
       "      <td>2.0</td>\n",
       "      <td>2.0</td>\n",
       "      <td>2.0</td>\n",
       "      <td>other</td>\n",
       "      <td>0.0</td>\n",
       "      <td>-6.0</td>\n",
       "      <td>5.0</td>\n",
       "      <td>4.0</td>\n",
       "      <td>4.0</td>\n",
       "      <td>5.0</td>\n",
       "      <td>0.0</td>\n",
       "      <td>60.0</td>\n",
       "    </tr>\n",
       "    <tr>\n",
       "      <th>24</th>\n",
       "      <td>15.0</td>\n",
       "      <td>2.0</td>\n",
       "      <td>1.0</td>\n",
       "      <td>3.0</td>\n",
       "      <td>services</td>\n",
       "      <td>0.0</td>\n",
       "      <td>-9.0</td>\n",
       "      <td>4.0</td>\n",
       "      <td>3.0</td>\n",
       "      <td>2.0</td>\n",
       "      <td>5.0</td>\n",
       "      <td>NaN</td>\n",
       "      <td>40.0</td>\n",
       "    </tr>\n",
       "    <tr>\n",
       "      <th>25</th>\n",
       "      <td>16.0</td>\n",
       "      <td>2.0</td>\n",
       "      <td>1.0</td>\n",
       "      <td>1.0</td>\n",
       "      <td>services</td>\n",
       "      <td>2.0</td>\n",
       "      <td>-3.0</td>\n",
       "      <td>1.0</td>\n",
       "      <td>2.0</td>\n",
       "      <td>2.0</td>\n",
       "      <td>5.0</td>\n",
       "      <td>14.0</td>\n",
       "      <td>40.0</td>\n",
       "    </tr>\n",
       "    <tr>\n",
       "      <th>26</th>\n",
       "      <td>15.0</td>\n",
       "      <td>2.0</td>\n",
       "      <td>NaN</td>\n",
       "      <td>1.0</td>\n",
       "      <td>other</td>\n",
       "      <td>0.0</td>\n",
       "      <td>-3.0</td>\n",
       "      <td>4.0</td>\n",
       "      <td>2.0</td>\n",
       "      <td>2.0</td>\n",
       "      <td>5.0</td>\n",
       "      <td>2.0</td>\n",
       "      <td>55.0</td>\n",
       "    </tr>\n",
       "    <tr>\n",
       "      <th>27</th>\n",
       "      <td>15.0</td>\n",
       "      <td>4.0</td>\n",
       "      <td>1.0</td>\n",
       "      <td>1.0</td>\n",
       "      <td>health</td>\n",
       "      <td>0.0</td>\n",
       "      <td>-3.0</td>\n",
       "      <td>2.0</td>\n",
       "      <td>2.0</td>\n",
       "      <td>4.0</td>\n",
       "      <td>1.0</td>\n",
       "      <td>4.0</td>\n",
       "      <td>75.0</td>\n",
       "    </tr>\n",
       "    <tr>\n",
       "      <th>28</th>\n",
       "      <td>16.0</td>\n",
       "      <td>3.0</td>\n",
       "      <td>1.0</td>\n",
       "      <td>2.0</td>\n",
       "      <td>services</td>\n",
       "      <td>0.0</td>\n",
       "      <td>-6.0</td>\n",
       "      <td>5.0</td>\n",
       "      <td>3.0</td>\n",
       "      <td>3.0</td>\n",
       "      <td>5.0</td>\n",
       "      <td>4.0</td>\n",
       "      <td>55.0</td>\n",
       "    </tr>\n",
       "    <tr>\n",
       "      <th>29</th>\n",
       "      <td>16.0</td>\n",
       "      <td>4.0</td>\n",
       "      <td>1.0</td>\n",
       "      <td>2.0</td>\n",
       "      <td>None</td>\n",
       "      <td>0.0</td>\n",
       "      <td>-6.0</td>\n",
       "      <td>4.0</td>\n",
       "      <td>4.0</td>\n",
       "      <td>5.0</td>\n",
       "      <td>5.0</td>\n",
       "      <td>16.0</td>\n",
       "      <td>55.0</td>\n",
       "    </tr>\n",
       "    <tr>\n",
       "      <th>30</th>\n",
       "      <td>15.0</td>\n",
       "      <td>4.0</td>\n",
       "      <td>NaN</td>\n",
       "      <td>2.0</td>\n",
       "      <td>health</td>\n",
       "      <td>0.0</td>\n",
       "      <td>-6.0</td>\n",
       "      <td>5.0</td>\n",
       "      <td>4.0</td>\n",
       "      <td>2.0</td>\n",
       "      <td>NaN</td>\n",
       "      <td>0.0</td>\n",
       "      <td>60.0</td>\n",
       "    </tr>\n",
       "    <tr>\n",
       "      <th>31</th>\n",
       "      <td>15.0</td>\n",
       "      <td>4.0</td>\n",
       "      <td>2.0</td>\n",
       "      <td>2.0</td>\n",
       "      <td>services</td>\n",
       "      <td>0.0</td>\n",
       "      <td>-6.0</td>\n",
       "      <td>4.0</td>\n",
       "      <td>3.0</td>\n",
       "      <td>1.0</td>\n",
       "      <td>5.0</td>\n",
       "      <td>0.0</td>\n",
       "      <td>85.0</td>\n",
       "    </tr>\n",
       "    <tr>\n",
       "      <th>32</th>\n",
       "      <td>15.0</td>\n",
       "      <td>4.0</td>\n",
       "      <td>1.0</td>\n",
       "      <td>2.0</td>\n",
       "      <td>teacher</td>\n",
       "      <td>0.0</td>\n",
       "      <td>-6.0</td>\n",
       "      <td>4.0</td>\n",
       "      <td>NaN</td>\n",
       "      <td>2.0</td>\n",
       "      <td>5.0</td>\n",
       "      <td>0.0</td>\n",
       "      <td>80.0</td>\n",
       "    </tr>\n",
       "    <tr>\n",
       "      <th>33</th>\n",
       "      <td>15.0</td>\n",
       "      <td>3.0</td>\n",
       "      <td>1.0</td>\n",
       "      <td>2.0</td>\n",
       "      <td>other</td>\n",
       "      <td>0.0</td>\n",
       "      <td>-6.0</td>\n",
       "      <td>5.0</td>\n",
       "      <td>3.0</td>\n",
       "      <td>2.0</td>\n",
       "      <td>2.0</td>\n",
       "      <td>0.0</td>\n",
       "      <td>60.0</td>\n",
       "    </tr>\n",
       "    <tr>\n",
       "      <th>34</th>\n",
       "      <td>16.0</td>\n",
       "      <td>3.0</td>\n",
       "      <td>1.0</td>\n",
       "      <td>1.0</td>\n",
       "      <td>other</td>\n",
       "      <td>0.0</td>\n",
       "      <td>-3.0</td>\n",
       "      <td>5.0</td>\n",
       "      <td>4.0</td>\n",
       "      <td>3.0</td>\n",
       "      <td>5.0</td>\n",
       "      <td>0.0</td>\n",
       "      <td>75.0</td>\n",
       "    </tr>\n",
       "    <tr>\n",
       "      <th>35</th>\n",
       "      <td>15.0</td>\n",
       "      <td>2.0</td>\n",
       "      <td>NaN</td>\n",
       "      <td>1.0</td>\n",
       "      <td>other</td>\n",
       "      <td>0.0</td>\n",
       "      <td>-3.0</td>\n",
       "      <td>3.0</td>\n",
       "      <td>5.0</td>\n",
       "      <td>1.0</td>\n",
       "      <td>5.0</td>\n",
       "      <td>0.0</td>\n",
       "      <td>30.0</td>\n",
       "    </tr>\n",
       "    <tr>\n",
       "      <th>36</th>\n",
       "      <td>15.0</td>\n",
       "      <td>4.0</td>\n",
       "      <td>1.0</td>\n",
       "      <td>3.0</td>\n",
       "      <td>teacher</td>\n",
       "      <td>0.0</td>\n",
       "      <td>-9.0</td>\n",
       "      <td>5.0</td>\n",
       "      <td>4.0</td>\n",
       "      <td>3.0</td>\n",
       "      <td>4.0</td>\n",
       "      <td>2.0</td>\n",
       "      <td>90.0</td>\n",
       "    </tr>\n",
       "    <tr>\n",
       "      <th>37</th>\n",
       "      <td>16.0</td>\n",
       "      <td>4.0</td>\n",
       "      <td>NaN</td>\n",
       "      <td>3.0</td>\n",
       "      <td>other</td>\n",
       "      <td>0.0</td>\n",
       "      <td>-9.0</td>\n",
       "      <td>2.0</td>\n",
       "      <td>4.0</td>\n",
       "      <td>3.0</td>\n",
       "      <td>5.0</td>\n",
       "      <td>7.0</td>\n",
       "      <td>75.0</td>\n",
       "    </tr>\n",
       "    <tr>\n",
       "      <th>38</th>\n",
       "      <td>15.0</td>\n",
       "      <td>3.0</td>\n",
       "      <td>1.0</td>\n",
       "      <td>3.0</td>\n",
       "      <td>services</td>\n",
       "      <td>0.0</td>\n",
       "      <td>-9.0</td>\n",
       "      <td>4.0</td>\n",
       "      <td>3.0</td>\n",
       "      <td>2.0</td>\n",
       "      <td>5.0</td>\n",
       "      <td>2.0</td>\n",
       "      <td>55.0</td>\n",
       "    </tr>\n",
       "    <tr>\n",
       "      <th>39</th>\n",
       "      <td>15.0</td>\n",
       "      <td>2.0</td>\n",
       "      <td>1.0</td>\n",
       "      <td>1.0</td>\n",
       "      <td>at_home</td>\n",
       "      <td>0.0</td>\n",
       "      <td>-3.0</td>\n",
       "      <td>4.0</td>\n",
       "      <td>3.0</td>\n",
       "      <td>1.0</td>\n",
       "      <td>2.0</td>\n",
       "      <td>8.0</td>\n",
       "      <td>65.0</td>\n",
       "    </tr>\n",
       "    <tr>\n",
       "      <th>40</th>\n",
       "      <td>16.0</td>\n",
       "      <td>2.0</td>\n",
       "      <td>2.0</td>\n",
       "      <td>2.0</td>\n",
       "      <td>other</td>\n",
       "      <td>1.0</td>\n",
       "      <td>-6.0</td>\n",
       "      <td>3.0</td>\n",
       "      <td>3.0</td>\n",
       "      <td>3.0</td>\n",
       "      <td>3.0</td>\n",
       "      <td>25.0</td>\n",
       "      <td>55.0</td>\n",
       "    </tr>\n",
       "    <tr>\n",
       "      <th>41</th>\n",
       "      <td>15.0</td>\n",
       "      <td>4.0</td>\n",
       "      <td>1.0</td>\n",
       "      <td>1.0</td>\n",
       "      <td>teacher</td>\n",
       "      <td>0.0</td>\n",
       "      <td>-3.0</td>\n",
       "      <td>5.0</td>\n",
       "      <td>4.0</td>\n",
       "      <td>3.0</td>\n",
       "      <td>5.0</td>\n",
       "      <td>8.0</td>\n",
       "      <td>60.0</td>\n",
       "    </tr>\n",
       "    <tr>\n",
       "      <th>42</th>\n",
       "      <td>15.0</td>\n",
       "      <td>4.0</td>\n",
       "      <td>1.0</td>\n",
       "      <td>2.0</td>\n",
       "      <td>services</td>\n",
       "      <td>0.0</td>\n",
       "      <td>-6.0</td>\n",
       "      <td>4.0</td>\n",
       "      <td>3.0</td>\n",
       "      <td>3.0</td>\n",
       "      <td>5.0</td>\n",
       "      <td>2.0</td>\n",
       "      <td>90.0</td>\n",
       "    </tr>\n",
       "    <tr>\n",
       "      <th>43</th>\n",
       "      <td>15.0</td>\n",
       "      <td>2.0</td>\n",
       "      <td>1.0</td>\n",
       "      <td>1.0</td>\n",
       "      <td>services</td>\n",
       "      <td>0.0</td>\n",
       "      <td>-3.0</td>\n",
       "      <td>NaN</td>\n",
       "      <td>4.0</td>\n",
       "      <td>1.0</td>\n",
       "      <td>1.0</td>\n",
       "      <td>0.0</td>\n",
       "      <td>55.0</td>\n",
       "    </tr>\n",
       "    <tr>\n",
       "      <th>44</th>\n",
       "      <td>16.0</td>\n",
       "      <td>2.0</td>\n",
       "      <td>2.0</td>\n",
       "      <td>2.0</td>\n",
       "      <td>other</td>\n",
       "      <td>1.0</td>\n",
       "      <td>-6.0</td>\n",
       "      <td>4.0</td>\n",
       "      <td>3.0</td>\n",
       "      <td>3.0</td>\n",
       "      <td>5.0</td>\n",
       "      <td>14.0</td>\n",
       "      <td>45.0</td>\n",
       "    </tr>\n",
       "    <tr>\n",
       "      <th>45</th>\n",
       "      <td>15.0</td>\n",
       "      <td>4.0</td>\n",
       "      <td>1.0</td>\n",
       "      <td>2.0</td>\n",
       "      <td>other</td>\n",
       "      <td>0.0</td>\n",
       "      <td>-6.0</td>\n",
       "      <td>5.0</td>\n",
       "      <td>2.0</td>\n",
       "      <td>2.0</td>\n",
       "      <td>5.0</td>\n",
       "      <td>8.0</td>\n",
       "      <td>30.0</td>\n",
       "    </tr>\n",
       "    <tr>\n",
       "      <th>46</th>\n",
       "      <td>16.0</td>\n",
       "      <td>3.0</td>\n",
       "      <td>1.0</td>\n",
       "      <td>2.0</td>\n",
       "      <td>other</td>\n",
       "      <td>0.0</td>\n",
       "      <td>-6.0</td>\n",
       "      <td>2.0</td>\n",
       "      <td>3.0</td>\n",
       "      <td>5.0</td>\n",
       "      <td>3.0</td>\n",
       "      <td>12.0</td>\n",
       "      <td>55.0</td>\n",
       "    </tr>\n",
       "    <tr>\n",
       "      <th>47</th>\n",
       "      <td>16.0</td>\n",
       "      <td>4.0</td>\n",
       "      <td>1.0</td>\n",
       "      <td>4.0</td>\n",
       "      <td>health</td>\n",
       "      <td>0.0</td>\n",
       "      <td>-12.0</td>\n",
       "      <td>4.0</td>\n",
       "      <td>2.0</td>\n",
       "      <td>2.0</td>\n",
       "      <td>2.0</td>\n",
       "      <td>4.0</td>\n",
       "      <td>100.0</td>\n",
       "    </tr>\n",
       "    <tr>\n",
       "      <th>48</th>\n",
       "      <td>15.0</td>\n",
       "      <td>4.0</td>\n",
       "      <td>1.0</td>\n",
       "      <td>2.0</td>\n",
       "      <td>teacher</td>\n",
       "      <td>NaN</td>\n",
       "      <td>-6.0</td>\n",
       "      <td>4.0</td>\n",
       "      <td>3.0</td>\n",
       "      <td>3.0</td>\n",
       "      <td>5.0</td>\n",
       "      <td>2.0</td>\n",
       "      <td>70.0</td>\n",
       "    </tr>\n",
       "    <tr>\n",
       "      <th>49</th>\n",
       "      <td>15.0</td>\n",
       "      <td>4.0</td>\n",
       "      <td>1.0</td>\n",
       "      <td>2.0</td>\n",
       "      <td>services</td>\n",
       "      <td>1.0</td>\n",
       "      <td>-6.0</td>\n",
       "      <td>4.0</td>\n",
       "      <td>4.0</td>\n",
       "      <td>4.0</td>\n",
       "      <td>3.0</td>\n",
       "      <td>2.0</td>\n",
       "      <td>35.0</td>\n",
       "    </tr>\n",
       "  </tbody>\n",
       "</table>\n",
       "</div>"
      ],
      "text/plain": [
       "     age  Medu  traveltime  studytime      Mjob  failures  studytime_granular  \\\n",
       "0   18.0   4.0         2.0        2.0   at_home       0.0                -6.0   \n",
       "1   17.0   1.0         1.0        2.0   at_home       0.0                -6.0   \n",
       "2   15.0   1.0         1.0        2.0   at_home       3.0                -6.0   \n",
       "3   15.0   4.0         1.0        3.0    health       0.0                -9.0   \n",
       "4   16.0   3.0         1.0        2.0     other       0.0                -6.0   \n",
       "5   16.0   4.0         1.0        2.0  services       0.0                -6.0   \n",
       "6   16.0   2.0         1.0        2.0     other       0.0                -6.0   \n",
       "7   17.0   4.0         2.0        2.0     other       0.0                -6.0   \n",
       "8   15.0   3.0         1.0        2.0  services       0.0                -6.0   \n",
       "9   15.0   3.0         1.0        2.0     other       0.0                -6.0   \n",
       "10  15.0   4.0         1.0        2.0   teacher       0.0                -6.0   \n",
       "11  15.0   2.0         3.0        3.0  services       0.0                -9.0   \n",
       "12  15.0   4.0         1.0        1.0    health       0.0                -3.0   \n",
       "13  15.0   4.0         2.0        2.0   teacher       0.0                -6.0   \n",
       "14  15.0   2.0         1.0        3.0     other       0.0                -9.0   \n",
       "15  16.0   4.0         1.0        1.0    health       0.0                -3.0   \n",
       "16  16.0   4.0         1.0        3.0  services       0.0                -9.0   \n",
       "17  16.0   3.0         3.0        NaN     other       0.0                 NaN   \n",
       "18  17.0   3.0         1.0        1.0  services       3.0                -3.0   \n",
       "19  16.0   4.0         1.0        1.0    health       0.0                -3.0   \n",
       "20  15.0   4.0         1.0        2.0   teacher       0.0                -6.0   \n",
       "21  15.0   4.0         1.0        1.0    health       NaN                -3.0   \n",
       "22  16.0   4.0         1.0        2.0   teacher       0.0                -6.0   \n",
       "23  16.0   2.0         2.0        2.0     other       0.0                -6.0   \n",
       "24  15.0   2.0         1.0        3.0  services       0.0                -9.0   \n",
       "25  16.0   2.0         1.0        1.0  services       2.0                -3.0   \n",
       "26  15.0   2.0         NaN        1.0     other       0.0                -3.0   \n",
       "27  15.0   4.0         1.0        1.0    health       0.0                -3.0   \n",
       "28  16.0   3.0         1.0        2.0  services       0.0                -6.0   \n",
       "29  16.0   4.0         1.0        2.0      None       0.0                -6.0   \n",
       "30  15.0   4.0         NaN        2.0    health       0.0                -6.0   \n",
       "31  15.0   4.0         2.0        2.0  services       0.0                -6.0   \n",
       "32  15.0   4.0         1.0        2.0   teacher       0.0                -6.0   \n",
       "33  15.0   3.0         1.0        2.0     other       0.0                -6.0   \n",
       "34  16.0   3.0         1.0        1.0     other       0.0                -3.0   \n",
       "35  15.0   2.0         NaN        1.0     other       0.0                -3.0   \n",
       "36  15.0   4.0         1.0        3.0   teacher       0.0                -9.0   \n",
       "37  16.0   4.0         NaN        3.0     other       0.0                -9.0   \n",
       "38  15.0   3.0         1.0        3.0  services       0.0                -9.0   \n",
       "39  15.0   2.0         1.0        1.0   at_home       0.0                -3.0   \n",
       "40  16.0   2.0         2.0        2.0     other       1.0                -6.0   \n",
       "41  15.0   4.0         1.0        1.0   teacher       0.0                -3.0   \n",
       "42  15.0   4.0         1.0        2.0  services       0.0                -6.0   \n",
       "43  15.0   2.0         1.0        1.0  services       0.0                -3.0   \n",
       "44  16.0   2.0         2.0        2.0     other       1.0                -6.0   \n",
       "45  15.0   4.0         1.0        2.0     other       0.0                -6.0   \n",
       "46  16.0   3.0         1.0        2.0     other       0.0                -6.0   \n",
       "47  16.0   4.0         1.0        4.0    health       0.0               -12.0   \n",
       "48  15.0   4.0         1.0        2.0   teacher       NaN                -6.0   \n",
       "49  15.0   4.0         1.0        2.0  services       1.0                -6.0   \n",
       "\n",
       "    famrel  freetime  goout  health  absences  score  \n",
       "0      4.0       3.0    4.0     3.0       6.0   30.0  \n",
       "1      5.0       3.0    3.0     3.0       4.0   30.0  \n",
       "2      4.0       3.0    2.0     3.0      10.0   50.0  \n",
       "3      3.0       2.0    2.0     5.0       2.0   75.0  \n",
       "4      4.0       3.0    2.0     5.0       4.0   50.0  \n",
       "5      5.0       4.0    2.0     5.0      10.0   75.0  \n",
       "6      4.0       4.0    4.0     3.0       0.0   55.0  \n",
       "7      4.0       1.0    4.0     1.0       6.0   30.0  \n",
       "8      NaN       2.0    2.0     1.0       0.0   95.0  \n",
       "9      5.0       5.0    1.0     5.0       0.0   75.0  \n",
       "10     3.0       3.0    3.0     2.0       0.0   45.0  \n",
       "11     5.0       2.0    2.0     4.0       4.0   60.0  \n",
       "12     NaN       3.0    3.0     5.0       2.0   70.0  \n",
       "13     5.0       4.0    3.0     3.0       2.0   55.0  \n",
       "14     4.0       5.0    2.0     3.0       0.0   80.0  \n",
       "15     4.0       4.0    4.0     2.0       4.0   70.0  \n",
       "16     3.0       2.0    3.0     2.0       6.0   70.0  \n",
       "17     5.0       3.0    2.0     4.0       4.0   50.0  \n",
       "18     5.0       5.0    5.0     5.0      16.0   25.0  \n",
       "19     3.0       1.0    3.0     5.0       4.0   50.0  \n",
       "20     NaN       4.0    1.0     1.0       0.0   75.0  \n",
       "21     5.0       4.0    2.0     5.0       0.0   75.0  \n",
       "22     4.0       5.0    1.0     5.0       2.0   80.0  \n",
       "23     5.0       4.0    4.0     5.0       0.0   60.0  \n",
       "24     4.0       3.0    2.0     5.0       NaN   40.0  \n",
       "25     1.0       2.0    2.0     5.0      14.0   40.0  \n",
       "26     4.0       2.0    2.0     5.0       2.0   55.0  \n",
       "27     2.0       2.0    4.0     1.0       4.0   75.0  \n",
       "28     5.0       3.0    3.0     5.0       4.0   55.0  \n",
       "29     4.0       4.0    5.0     5.0      16.0   55.0  \n",
       "30     5.0       4.0    2.0     NaN       0.0   60.0  \n",
       "31     4.0       3.0    1.0     5.0       0.0   85.0  \n",
       "32     4.0       NaN    2.0     5.0       0.0   80.0  \n",
       "33     5.0       3.0    2.0     2.0       0.0   60.0  \n",
       "34     5.0       4.0    3.0     5.0       0.0   75.0  \n",
       "35     3.0       5.0    1.0     5.0       0.0   30.0  \n",
       "36     5.0       4.0    3.0     4.0       2.0   90.0  \n",
       "37     2.0       4.0    3.0     5.0       7.0   75.0  \n",
       "38     4.0       3.0    2.0     5.0       2.0   55.0  \n",
       "39     4.0       3.0    1.0     2.0       8.0   65.0  \n",
       "40     3.0       3.0    3.0     3.0      25.0   55.0  \n",
       "41     5.0       4.0    3.0     5.0       8.0   60.0  \n",
       "42     4.0       3.0    3.0     5.0       2.0   90.0  \n",
       "43     NaN       4.0    1.0     1.0       0.0   55.0  \n",
       "44     4.0       3.0    3.0     5.0      14.0   45.0  \n",
       "45     5.0       2.0    2.0     5.0       8.0   30.0  \n",
       "46     2.0       3.0    5.0     3.0      12.0   55.0  \n",
       "47     4.0       2.0    2.0     2.0       4.0  100.0  \n",
       "48     4.0       3.0    3.0     5.0       2.0   70.0  \n",
       "49     4.0       4.0    4.0     3.0       2.0   35.0  "
      ]
     },
     "execution_count": 108,
     "metadata": {},
     "output_type": "execute_result"
    }
   ],
   "source": [
    "students_for_model = students.loc[:, ['age', 'Medu', 'traveltime','studytime','Mjob','failures','studytime_granular','famrel','freetime','goout','health','absences','score']]\n",
    "students_for_model.head(50)"
   ]
  },
  {
   "cell_type": "code",
   "execution_count": 109,
   "id": "d0a3641d",
   "metadata": {},
   "outputs": [
    {
     "name": "stdout",
     "output_type": "stream",
     "text": [
      "            0\n",
      "0   -1.886036\n",
      "1   -0.645828\n",
      "2   -2.783982\n",
      "3   -0.105297\n",
      "4  -13.736264\n",
      "5    0.315890\n",
      "6   -1.890068\n",
      "7    1.774570\n",
      "8   -3.145313\n",
      "9   -0.611002\n",
      "10   0.285663\n"
     ]
    }
   ],
   "source": [
    "students = students.dropna()\n",
    "X = students[['age', 'Medu', 'traveltime','studytime','failures','studytime_granular','famrel','freetime','goout','health','absences']]\n",
    "y = students['score']\n",
    "\n",
    "regr = linear_model.LinearRegression()\n",
    "regr.fit(X, y)\n",
    "print(pd.DataFrame(regr.coef_))"
   ]
  },
  {
   "cell_type": "code",
   "execution_count": null,
   "id": "01b48a09",
   "metadata": {},
   "outputs": [],
   "source": []
  },
  {
   "cell_type": "code",
   "execution_count": null,
   "id": "7e059c16",
   "metadata": {},
   "outputs": [],
   "source": []
  }
 ],
 "metadata": {
  "kernelspec": {
   "display_name": "Python 3",
   "language": "python",
   "name": "python3"
  },
  "language_info": {
   "codemirror_mode": {
    "name": "ipython",
    "version": 3
   },
   "file_extension": ".py",
   "mimetype": "text/x-python",
   "name": "python",
   "nbconvert_exporter": "python",
   "pygments_lexer": "ipython3",
   "version": "3.8.8"
  }
 },
 "nbformat": 4,
 "nbformat_minor": 5
}
